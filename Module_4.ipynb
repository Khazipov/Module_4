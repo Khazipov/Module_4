{
 "cells": [
  {
   "cell_type": "markdown",
   "metadata": {
    "hideCode": false,
    "hidePrompt": false
   },
   "source": [
    "# Прогнозирование вероятности дефолта для кредитных заемщиков"
   ]
  },
  {
   "cell_type": "markdown",
   "metadata": {
    "hideCode": false,
    "hidePrompt": false
   },
   "source": [
    "**Цель**: Применить методы машинного обучения для прогнозирования вероятности дефолта у кредитных заемщиков на основе их кредитной истории.\n",
    "\n",
    "**Задачи**:\n",
    "* Сделать разведывательный анализ данных\n",
    "* Поработать над очисткой и обогащением данных \n",
    "* Оценить важность признаков (предикторов) для модели \n",
    "* Обучить модель логистической регрессии и спрогнозировать вероятности дефолта\n",
    "* Поработать над настройкой гиперпараметров модели\n",
    "* Сделать submission на Kagle"
   ]
  },
  {
   "cell_type": "markdown",
   "metadata": {
    "hideCode": false,
    "hidePrompt": false
   },
   "source": [
    "## Первый шаг: загрузка библиотек"
   ]
  },
  {
   "cell_type": "code",
   "execution_count": 1765,
   "metadata": {
    "hideCode": false,
    "hidePrompt": false
   },
   "outputs": [],
   "source": [
    "from prettytable import PrettyTable\n",
    "import pandas as pd\n",
    "import numpy as np\n",
    "import seaborn as sns\n",
    "import datetime\n",
    "from pandas import Series\n",
    "import matplotlib.pyplot as plt\n",
    "\n",
    "from sklearn.feature_selection import f_classif, mutual_info_classif\n",
    "from sklearn.preprocessing import LabelEncoder, OneHotEncoder, StandardScaler, RobustScaler\n",
    "\n",
    "from sklearn.model_selection import train_test_split\n",
    "from sklearn.linear_model import LogisticRegression\n",
    "\n",
    "from sklearn.metrics import confusion_matrix, accuracy_score, precision_score, recall_score, f1_score\n",
    "from sklearn.metrics import auc, roc_auc_score, roc_curve, plot_confusion_matrix\n",
    "\n",
    "from imblearn.over_sampling import RandomOverSampler\n",
    "from imblearn.under_sampling import RandomUnderSampler\n",
    "\n",
    "from sklearn.model_selection import GridSearchCV\n",
    "\n",
    "import warnings\n",
    "warnings.filterwarnings('ignore')"
   ]
  },
  {
   "cell_type": "markdown",
   "metadata": {},
   "source": [
    "## Описание датасета"
   ]
  },
  {
   "cell_type": "markdown",
   "metadata": {},
   "source": [
    "Данные представляют из себя набор характеристик заемщиков банка: социально-демографические характеристики, данные по кредитной истории и т.д., а также бинарную целевую переменную `default` - показатель того, допустил ли заемщик дефолт по кредиту в прошлом или нет. \n",
    "\n",
    "Всего в датасете 110148 наблюдени, 18 потенциальный предикторов и 1 целевая переменная.\n",
    "\n",
    "Таким образом, задача предсказания дефолта клиента сводится к задаче __логистической регрессии__."
   ]
  },
  {
   "cell_type": "markdown",
   "metadata": {},
   "source": [
    "В таблице ниже можно подробнее изучить описание всех переменных, представленные в датасете:"
   ]
  },
  {
   "cell_type": "code",
   "execution_count": 1766,
   "metadata": {
    "hideCode": true,
    "hideOutput": false,
    "hidePrompt": false,
    "scrolled": false
   },
   "outputs": [
    {
     "name": "stdout",
     "output_type": "stream",
     "text": [
      "+------------------+----------------------------------------+\n",
      "|     Variable     |              Description               |\n",
      "+------------------+----------------------------------------+\n",
      "|    client_id     |         идентификатор клиента          |\n",
      "|    education     |          уровень образования           |\n",
      "|       sex        |              пол заемщика              |\n",
      "|       age        |            возраст заемщика            |\n",
      "|       car        |        флаг наличия автомобиля         |\n",
      "|     car_type     |        флаг автомобиля иномарки        |\n",
      "| decline_app_cnt  |  количество отказанных прошлых заявок  |\n",
      "|    good_work     |     флаг наличия “хорошей” работы      |\n",
      "| bki_request_cnt  |       количество запросов в БКИ        |\n",
      "|   home_address   |     категоризатор домашнего адреса     |\n",
      "|   work_address   |     категоризатор рабочего адреса      |\n",
      "|      income      |                 доход                  |\n",
      "| foreign_passport |         наличие загранпаспорта         |\n",
      "|       sna        |    связь заемщика с клиентами банка    |\n",
      "|    first_time    | давность наличия информации о заемщике |\n",
      "|    score_bki     |   скоринговый балл по данным из БКИ    |\n",
      "|  region_rating   |            рейтинг региона             |\n",
      "|     app_date     |           дата подачи заявки           |\n",
      "|     default      |        флаг дефолта по кредиту         |\n",
      "+------------------+----------------------------------------+\n"
     ]
    }
   ],
   "source": [
    "x = PrettyTable()\n",
    "\n",
    "x.field_names = [\"Variable\", \"Description\"]\n",
    "\n",
    "x.add_row([\"client_id\", 'идентификатор клиента'])\n",
    "x.add_row([\"education\", 'уровень образования'])\n",
    "x.add_row([\"sex\", 'пол заемщика'])\n",
    "x.add_row([\"age\", 'возраст заемщика'])\n",
    "x.add_row([\"car\", 'флаг наличия автомобиля'])\n",
    "x.add_row([\"car_type\", 'флаг автомобиля иномарки'])\n",
    "x.add_row([\"decline_app_cnt\", 'количество отказанных прошлых заявок'])\n",
    "x.add_row([\"good_work\", 'флаг наличия “хорошей” работы'])\n",
    "x.add_row([\"bki_request_cnt\", 'количество запросов в БКИ'])\n",
    "x.add_row([\"home_address\", 'категоризатор домашнего адреса'])\n",
    "x.add_row([\"work_address\", 'категоризатор рабочего адреса'])\n",
    "x.add_row([\"income\", 'доход'])\n",
    "x.add_row([\"foreign_passport\", 'наличие загранпаспорта'])\n",
    "x.add_row([\"sna\", 'связь заемщика с клиентами банка'])\n",
    "x.add_row([\"first_time\", 'давность наличия информации о заемщике'])\n",
    "x.add_row([\"score_bki\", 'скоринговый балл по данным из БКИ'])\n",
    "x.add_row([\"region_rating\", 'рейтинг региона'])\n",
    "x.add_row([\"app_date\", 'дата подачи заявки'])\n",
    "x.add_row([\"default\", 'флаг дефолта по кредиту'])\n",
    "\n",
    "print(x)"
   ]
  },
  {
   "cell_type": "markdown",
   "metadata": {},
   "source": [
    "## Загрузка данных + разметка"
   ]
  },
  {
   "cell_type": "code",
   "execution_count": 1767,
   "metadata": {
    "hideCode": false,
    "hidePrompt": false
   },
   "outputs": [],
   "source": [
    "df_train = pd.read_csv('train_data.csv')\n",
    "df_test = pd.read_csv('test_data.csv')\n",
    "sample_submission = pd.read_csv('sample_submission_module4.csv')"
   ]
  },
  {
   "cell_type": "markdown",
   "metadata": {},
   "source": [
    "Данные предоставлены двумя отдельными датасетами: __тренировочный__ и __тестовый__. Поскольку обработка и модификация признаков должна быть универсальной для всей выборки, соединими датасеты, предварительно разметив где какой. В тестовом датасете нет значений целевой переменной - их нужно будет 'по-настоящему' предсказать. "
   ]
  },
  {
   "cell_type": "code",
   "execution_count": 1768,
   "metadata": {},
   "outputs": [],
   "source": [
    "df_train['sample'] = 1  # помечаем где у нас трейн\n",
    "df_test['sample'] = 0  # помечаем где у нас тест\n",
    "# в тесте у нас нет значения default, мы его должны предсказать, поэтому пока просто заполняем nan\n",
    "df_test['default'] = np.nan\n",
    "\n",
    "data = df_test.append(df_train, sort=False).reset_index(\n",
    "    drop=True)  # соединяем датасеты"
   ]
  },
  {
   "cell_type": "markdown",
   "metadata": {},
   "source": [
    "Посмотрим что получилось:"
   ]
  },
  {
   "cell_type": "code",
   "execution_count": 1769,
   "metadata": {
    "hideCode": false,
    "hidePrompt": false,
    "scrolled": false
   },
   "outputs": [
    {
     "name": "stdout",
     "output_type": "stream",
     "text": [
      "Размерность финального датасета: (110148, 20)\n"
     ]
    },
    {
     "data": {
      "text/html": [
       "<div>\n",
       "<style scoped>\n",
       "    .dataframe tbody tr th:only-of-type {\n",
       "        vertical-align: middle;\n",
       "    }\n",
       "\n",
       "    .dataframe tbody tr th {\n",
       "        vertical-align: top;\n",
       "    }\n",
       "\n",
       "    .dataframe thead th {\n",
       "        text-align: right;\n",
       "    }\n",
       "</style>\n",
       "<table border=\"1\" class=\"dataframe\">\n",
       "  <thead>\n",
       "    <tr style=\"text-align: right;\">\n",
       "      <th></th>\n",
       "      <th>client_id</th>\n",
       "      <th>app_date</th>\n",
       "      <th>education</th>\n",
       "      <th>sex</th>\n",
       "      <th>age</th>\n",
       "      <th>car</th>\n",
       "      <th>car_type</th>\n",
       "      <th>decline_app_cnt</th>\n",
       "      <th>good_work</th>\n",
       "      <th>score_bki</th>\n",
       "      <th>bki_request_cnt</th>\n",
       "      <th>region_rating</th>\n",
       "      <th>home_address</th>\n",
       "      <th>work_address</th>\n",
       "      <th>income</th>\n",
       "      <th>sna</th>\n",
       "      <th>first_time</th>\n",
       "      <th>foreign_passport</th>\n",
       "      <th>sample</th>\n",
       "      <th>default</th>\n",
       "    </tr>\n",
       "  </thead>\n",
       "  <tbody>\n",
       "    <tr>\n",
       "      <th>0</th>\n",
       "      <td>74835</td>\n",
       "      <td>22MAR2014</td>\n",
       "      <td>GRD</td>\n",
       "      <td>M</td>\n",
       "      <td>29</td>\n",
       "      <td>Y</td>\n",
       "      <td>Y</td>\n",
       "      <td>0</td>\n",
       "      <td>0</td>\n",
       "      <td>-2.271884</td>\n",
       "      <td>3</td>\n",
       "      <td>50</td>\n",
       "      <td>1</td>\n",
       "      <td>2</td>\n",
       "      <td>50000</td>\n",
       "      <td>1</td>\n",
       "      <td>4</td>\n",
       "      <td>N</td>\n",
       "      <td>0</td>\n",
       "      <td>NaN</td>\n",
       "    </tr>\n",
       "    <tr>\n",
       "      <th>1</th>\n",
       "      <td>17527</td>\n",
       "      <td>24JAN2014</td>\n",
       "      <td>SCH</td>\n",
       "      <td>F</td>\n",
       "      <td>39</td>\n",
       "      <td>N</td>\n",
       "      <td>N</td>\n",
       "      <td>5</td>\n",
       "      <td>0</td>\n",
       "      <td>-1.504999</td>\n",
       "      <td>2</td>\n",
       "      <td>50</td>\n",
       "      <td>1</td>\n",
       "      <td>2</td>\n",
       "      <td>5000</td>\n",
       "      <td>4</td>\n",
       "      <td>3</td>\n",
       "      <td>N</td>\n",
       "      <td>0</td>\n",
       "      <td>NaN</td>\n",
       "    </tr>\n",
       "    <tr>\n",
       "      <th>2</th>\n",
       "      <td>75683</td>\n",
       "      <td>23MAR2014</td>\n",
       "      <td>UGR</td>\n",
       "      <td>M</td>\n",
       "      <td>50</td>\n",
       "      <td>Y</td>\n",
       "      <td>Y</td>\n",
       "      <td>0</td>\n",
       "      <td>0</td>\n",
       "      <td>-1.691339</td>\n",
       "      <td>1</td>\n",
       "      <td>50</td>\n",
       "      <td>1</td>\n",
       "      <td>2</td>\n",
       "      <td>30000</td>\n",
       "      <td>1</td>\n",
       "      <td>3</td>\n",
       "      <td>Y</td>\n",
       "      <td>0</td>\n",
       "      <td>NaN</td>\n",
       "    </tr>\n",
       "    <tr>\n",
       "      <th>3</th>\n",
       "      <td>26883</td>\n",
       "      <td>03FEB2014</td>\n",
       "      <td>SCH</td>\n",
       "      <td>M</td>\n",
       "      <td>56</td>\n",
       "      <td>N</td>\n",
       "      <td>N</td>\n",
       "      <td>0</td>\n",
       "      <td>0</td>\n",
       "      <td>-2.374182</td>\n",
       "      <td>1</td>\n",
       "      <td>40</td>\n",
       "      <td>1</td>\n",
       "      <td>2</td>\n",
       "      <td>17000</td>\n",
       "      <td>1</td>\n",
       "      <td>3</td>\n",
       "      <td>N</td>\n",
       "      <td>0</td>\n",
       "      <td>NaN</td>\n",
       "    </tr>\n",
       "    <tr>\n",
       "      <th>4</th>\n",
       "      <td>28862</td>\n",
       "      <td>04FEB2014</td>\n",
       "      <td>GRD</td>\n",
       "      <td>F</td>\n",
       "      <td>38</td>\n",
       "      <td>N</td>\n",
       "      <td>N</td>\n",
       "      <td>0</td>\n",
       "      <td>0</td>\n",
       "      <td>-2.487502</td>\n",
       "      <td>0</td>\n",
       "      <td>80</td>\n",
       "      <td>2</td>\n",
       "      <td>3</td>\n",
       "      <td>120000</td>\n",
       "      <td>1</td>\n",
       "      <td>3</td>\n",
       "      <td>N</td>\n",
       "      <td>0</td>\n",
       "      <td>NaN</td>\n",
       "    </tr>\n",
       "  </tbody>\n",
       "</table>\n",
       "</div>"
      ],
      "text/plain": [
       "   client_id   app_date education sex  age car car_type  decline_app_cnt  \\\n",
       "0      74835  22MAR2014       GRD   M   29   Y        Y                0   \n",
       "1      17527  24JAN2014       SCH   F   39   N        N                5   \n",
       "2      75683  23MAR2014       UGR   M   50   Y        Y                0   \n",
       "3      26883  03FEB2014       SCH   M   56   N        N                0   \n",
       "4      28862  04FEB2014       GRD   F   38   N        N                0   \n",
       "\n",
       "   good_work  score_bki  bki_request_cnt  region_rating  home_address  \\\n",
       "0          0  -2.271884                3             50             1   \n",
       "1          0  -1.504999                2             50             1   \n",
       "2          0  -1.691339                1             50             1   \n",
       "3          0  -2.374182                1             40             1   \n",
       "4          0  -2.487502                0             80             2   \n",
       "\n",
       "   work_address  income  sna  first_time foreign_passport  sample  default  \n",
       "0             2   50000    1           4                N       0      NaN  \n",
       "1             2    5000    4           3                N       0      NaN  \n",
       "2             2   30000    1           3                Y       0      NaN  \n",
       "3             2   17000    1           3                N       0      NaN  \n",
       "4             3  120000    1           3                N       0      NaN  "
      ]
     },
     "execution_count": 1769,
     "metadata": {},
     "output_type": "execute_result"
    }
   ],
   "source": [
    "print('Размерность финального датасета:', data.shape)\n",
    "data.head(5)"
   ]
  },
  {
   "cell_type": "markdown",
   "metadata": {},
   "source": [
    "## Предобработка данных: пропуски"
   ]
  },
  {
   "cell_type": "code",
   "execution_count": 1770,
   "metadata": {},
   "outputs": [],
   "source": [
    "# сразу же удалим неинформативный признак\n",
    "data.drop('client_id', axis=1, inplace=True)"
   ]
  },
  {
   "cell_type": "markdown",
   "metadata": {},
   "source": [
    "__Избавляемся от пропусков__"
   ]
  },
  {
   "cell_type": "code",
   "execution_count": 1771,
   "metadata": {},
   "outputs": [
    {
     "data": {
      "text/plain": [
       "app_date                0\n",
       "education             478\n",
       "sex                     0\n",
       "age                     0\n",
       "car                     0\n",
       "car_type                0\n",
       "decline_app_cnt         0\n",
       "good_work               0\n",
       "score_bki               0\n",
       "bki_request_cnt         0\n",
       "region_rating           0\n",
       "home_address            0\n",
       "work_address            0\n",
       "income                  0\n",
       "sna                     0\n",
       "first_time              0\n",
       "foreign_passport        0\n",
       "sample                  0\n",
       "default             36349\n",
       "dtype: int64"
      ]
     },
     "execution_count": 1771,
     "metadata": {},
     "output_type": "execute_result"
    }
   ],
   "source": [
    "data.isna().sum()"
   ]
  },
  {
   "cell_type": "markdown",
   "metadata": {},
   "source": [
    "Видим, что пропуски есть только в переменной `education`. Напоминаю, что пропуски в переменной `default` - искусственные :) \n",
    "\n",
    "Посмотрим, какой процент наблюдений имеет пропущенные значения:"
   ]
  },
  {
   "cell_type": "code",
   "execution_count": 1772,
   "metadata": {},
   "outputs": [
    {
     "name": "stdout",
     "output_type": "stream",
     "text": [
      "Пропущенных значений в переменной education: 0.43 %\n"
     ]
    }
   ],
   "source": [
    "print('Пропущенных значений в переменной education:', round(\n",
    "    data['education'].isna().sum()/len(data), 4)*100, '%')"
   ]
  },
  {
   "cell_type": "markdown",
   "metadata": {},
   "source": [
    "Пропущенный значений довольно мало, но удалять их все равно не хочется! Найдем самую часто встречающуюся категорию и заменим пропущенные значения на нее."
   ]
  },
  {
   "cell_type": "code",
   "execution_count": 1773,
   "metadata": {},
   "outputs": [
    {
     "data": {
      "text/plain": [
       "SCH    57998\n",
       "GRD    34768\n",
       "UGR    14748\n",
       "PGR     1865\n",
       "ACD      291\n",
       "Name: education, dtype: int64"
      ]
     },
     "execution_count": 1773,
     "metadata": {},
     "output_type": "execute_result"
    }
   ],
   "source": [
    "data['education'].value_counts()"
   ]
  },
  {
   "cell_type": "code",
   "execution_count": 1774,
   "metadata": {},
   "outputs": [],
   "source": [
    "data['education'] = data['education'].fillna(\n",
    "    data.education.mode()[0])  # заполняем самым частым значением"
   ]
  },
  {
   "cell_type": "markdown",
   "metadata": {
    "hideCode": false,
    "hidePrompt": false
   },
   "source": [
    "## Эксплораторный анализ данных"
   ]
  },
  {
   "cell_type": "markdown",
   "metadata": {
    "hideCode": false,
    "hidePrompt": false
   },
   "source": [
    "В наших данных довольно много переменных разного типа. Для большей структурированность эксплораторного анализа формально распределим предикторы по типу данных: __количественные, бинарные, и категориальные__. "
   ]
  },
  {
   "cell_type": "code",
   "execution_count": 1775,
   "metadata": {
    "hideCode": false,
    "hidePrompt": false
   },
   "outputs": [],
   "source": [
    "bin_cols = ['sex', 'car', 'car_type', 'good_work', 'foreign_passport']\n",
    "\n",
    "cat_cols = ['education', 'work_address', 'home_address',\n",
    "            'sna', 'first_time', 'region_rating', 'app_date']\n",
    "\n",
    "num_cols = ['income', 'decline_app_cnt', 'age', 'bki_request_cnt', 'score_bki']"
   ]
  },
  {
   "cell_type": "markdown",
   "metadata": {
    "hideCode": false,
    "hidePrompt": false
   },
   "source": [
    "## Количественные переменные"
   ]
  },
  {
   "cell_type": "code",
   "execution_count": 1776,
   "metadata": {},
   "outputs": [],
   "source": [
    "# визуализация для количественных переменных - код заимствован у Natalia Melnik - очень понравилась идея визуализации\n",
    "\n",
    "def visual(col, size=6):\n",
    "    fig, (g1, g2) = plt.subplots(1, 2, figsize=(2*size, size))\n",
    "    fig.suptitle('Histogram and boxplot for {0} '.format(col), fontsize=18)\n",
    "\n",
    "    g1.hist(data[col], bins=20, histtype='bar', align='mid',\n",
    "            rwidth=0.8, color='green')  # гистограмма\n",
    "\n",
    "    # боксплот для того, чтобы посмотреть выбросы\n",
    "    g2.boxplot(data[col], vert=False)\n",
    "    plt.figtext(0.5, 0, col, fontsize=16)\n",
    "    plt.show"
   ]
  },
  {
   "cell_type": "code",
   "execution_count": 1777,
   "metadata": {},
   "outputs": [],
   "source": [
    "def outliers(col):  # подсчет количества выбросов\n",
    "    Q1 = data[col].quantile(0.25)\n",
    "    Q3 = data[col].quantile(0.75)\n",
    "    IQR = Q3 - Q1\n",
    "    outs = ((data[col] < (Q1 - 1.5 * IQR)) | (data[col] > (Q3 + 1.5 * IQR)))\n",
    "    outs_fin = outs.sum()\n",
    "    print('Количество выбросов для переменной', data[col].name, '=', outs_fin)"
   ]
  },
  {
   "cell_type": "code",
   "execution_count": 1778,
   "metadata": {},
   "outputs": [],
   "source": [
    "def box_hue(col, text):  # сравнение дефолтных и недефолтных клиентов\n",
    "    g = sns.boxplot(x=\"default\", y=col, data=data, palette='rainbow').\\\n",
    "        set_title('Дефолтные клиенты в среднем имеют\\n '+text +\n",
    "                  ':')  # заголовок редактируется в зависимости от графика\n",
    "    g.figure.set_size_inches(7, 5)"
   ]
  },
  {
   "cell_type": "markdown",
   "metadata": {},
   "source": [
    "__Зарплата__"
   ]
  },
  {
   "cell_type": "code",
   "execution_count": 1779,
   "metadata": {
    "scrolled": false
   },
   "outputs": [
    {
     "data": {
      "image/png": "[encoded data removed]",
      "text/plain": [
       "<Figure size 864x432 with 2 Axes>"
      ]
     },
     "metadata": {},
     "output_type": "display_data"
    }
   ],
   "source": [
    "visual('income')"
   ]
  },
  {
   "cell_type": "markdown",
   "metadata": {},
   "source": [
    "Видим, что распределение очень смещено и имеет большой правый хвост. По графику боксплота видно, что в данных очень много выбросов. Посчитаем количество выбросов. Затем, прологорифмируем и посмотрим, получится ли сократить кол-во выбросов и улучшить распределение."
   ]
  },
  {
   "cell_type": "code",
   "execution_count": 1780,
   "metadata": {},
   "outputs": [
    {
     "name": "stdout",
     "output_type": "stream",
     "text": [
      "Количество выбросов для переменной income = 7000\n"
     ]
    }
   ],
   "source": [
    "outliers('income')  # очень много выбросов"
   ]
  },
  {
   "cell_type": "code",
   "execution_count": 1781,
   "metadata": {},
   "outputs": [],
   "source": [
    "data['income_log'] = np.log(data['income'] + 1)"
   ]
  },
  {
   "cell_type": "code",
   "execution_count": 1782,
   "metadata": {},
   "outputs": [
    {
     "data": {
      "image/png": "[encoded data removed]",
      "text/plain": [
       "<Figure size 864x432 with 2 Axes>"
      ]
     },
     "metadata": {},
     "output_type": "display_data"
    }
   ],
   "source": [
    "visual_num('income_log')"
   ]
  },
  {
   "cell_type": "code",
   "execution_count": 1783,
   "metadata": {},
   "outputs": [
    {
     "name": "stdout",
     "output_type": "stream",
     "text": [
      "Количество выбросов для переменной income_log = 2609\n"
     ]
    }
   ],
   "source": [
    "outliers('income_log')"
   ]
  },
  {
   "cell_type": "markdown",
   "metadata": {},
   "source": [
    "Видим, что логарифмирование помогло не только сделать распределение более нормальным, но и значительно уменьшить количество выбросов. Тем не менее, интуитивно кажется, что удалять такое количество наблюдений не стоит."
   ]
  },
  {
   "cell_type": "code",
   "execution_count": 1784,
   "metadata": {},
   "outputs": [],
   "source": [
    "data = data.drop('income', axis=1)"
   ]
  },
  {
   "cell_type": "markdown",
   "metadata": {},
   "source": [
    "Посмотрим также на отличая между дефолтными и недефолтными клиентами по этой переменной:"
   ]
  },
  {
   "cell_type": "code",
   "execution_count": 1785,
   "metadata": {
    "scrolled": true
   },
   "outputs": [
    {
     "data": {
      "image/png": "[encoded data removed]",
      "text/plain": [
       "<Figure size 504x360 with 1 Axes>"
      ]
     },
     "metadata": {},
     "output_type": "display_data"
    }
   ],
   "source": [
    "box_hue('income_log', 'меньший заработок')"
   ]
  },
  {
   "cell_type": "code",
   "execution_count": 1786,
   "metadata": {},
   "outputs": [],
   "source": [
    "num_cols.append('income_log')\n",
    "num_cols.remove('income')"
   ]
  },
  {
   "cell_type": "markdown",
   "metadata": {},
   "source": [
    "__Возраст__"
   ]
  },
  {
   "cell_type": "code",
   "execution_count": 1787,
   "metadata": {
    "scrolled": false
   },
   "outputs": [
    {
     "data": {
      "image/png": "[encoded data removed]",
      "text/plain": [
       "<Figure size 864x432 with 2 Axes>"
      ]
     },
     "metadata": {},
     "output_type": "display_data"
    }
   ],
   "source": [
    "visual('age')"
   ]
  },
  {
   "cell_type": "markdown",
   "metadata": {},
   "source": [
    "Видим, что возраст клиентов банка распределен довольно нормально, однако нбольшой перекос все же есть. Как видим по боксплоты - выбросов не имеется. Прологорифмируем в любом случае, поскольку это поможет сделать распределение еще более нормальным."
   ]
  },
  {
   "cell_type": "code",
   "execution_count": 1788,
   "metadata": {},
   "outputs": [
    {
     "name": "stdout",
     "output_type": "stream",
     "text": [
      "Количество выбросов для переменной age = 0\n"
     ]
    }
   ],
   "source": [
    "outliers('age')"
   ]
  },
  {
   "cell_type": "code",
   "execution_count": 1789,
   "metadata": {},
   "outputs": [],
   "source": [
    "data['age_log'] = np.log(data['age'] + 1)"
   ]
  },
  {
   "cell_type": "code",
   "execution_count": 1790,
   "metadata": {
    "scrolled": false
   },
   "outputs": [
    {
     "data": {
      "image/png": "[encoded data removed]",
      "text/plain": [
       "<Figure size 864x432 with 2 Axes>"
      ]
     },
     "metadata": {},
     "output_type": "display_data"
    }
   ],
   "source": [
    "visual('age_log')  # более нормальное"
   ]
  },
  {
   "cell_type": "code",
   "execution_count": 1791,
   "metadata": {},
   "outputs": [],
   "source": [
    "data = data.drop('age', axis=1)"
   ]
  },
  {
   "cell_type": "code",
   "execution_count": 1792,
   "metadata": {
    "scrolled": true
   },
   "outputs": [
    {
     "data": {
      "image/png": "[encoded data removed]",
      "text/plain": [
       "<Figure size 504x360 with 1 Axes>"
      ]
     },
     "metadata": {},
     "output_type": "display_data"
    }
   ],
   "source": [
    "box_hue('age_log', 'более молодой возраст')"
   ]
  },
  {
   "cell_type": "code",
   "execution_count": 1793,
   "metadata": {},
   "outputs": [],
   "source": [
    "num_cols.append('age_log')\n",
    "num_cols.remove('age')"
   ]
  },
  {
   "cell_type": "markdown",
   "metadata": {},
   "source": [
    "__Количество отклоненных заявок__"
   ]
  },
  {
   "cell_type": "code",
   "execution_count": 1794,
   "metadata": {},
   "outputs": [
    {
     "data": {
      "image/png": "[encoded data removed]",
      "text/plain": [
       "<Figure size 864x432 with 2 Axes>"
      ]
     },
     "metadata": {},
     "output_type": "display_data"
    }
   ],
   "source": [
    "visual('decline_app_cnt')"
   ]
  },
  {
   "cell_type": "markdown",
   "metadata": {},
   "source": [
    "По гистограмме можно сказать, что распределение сильно смещенное. По боксплоту видно, что есть огромное количество выбросов."
   ]
  },
  {
   "cell_type": "code",
   "execution_count": 1795,
   "metadata": {},
   "outputs": [
    {
     "name": "stdout",
     "output_type": "stream",
     "text": [
      "Количество выбросов для переменной decline_app_cnt = 18677\n"
     ]
    }
   ],
   "source": [
    "outliers('decline_app_cnt')  # огромное количество"
   ]
  },
  {
   "cell_type": "markdown",
   "metadata": {},
   "source": [
    "Видим, что превалирующее большинство значений сосредоточено около 0. Посмотрим на конкретные значения:"
   ]
  },
  {
   "cell_type": "code",
   "execution_count": 1796,
   "metadata": {},
   "outputs": [
    {
     "data": {
      "text/plain": [
       "0     0.830437\n",
       "1     0.113484\n",
       "2     0.032883\n",
       "3     0.012392\n",
       "4     0.005502\n",
       "5     0.002315\n",
       "6     0.001416\n",
       "7     0.000527\n",
       "8     0.000336\n",
       "9     0.000263\n",
       "10    0.000145\n",
       "11    0.000091\n",
       "12    0.000045\n",
       "13    0.000036\n",
       "14    0.000027\n",
       "16    0.000027\n",
       "30    0.000009\n",
       "15    0.000009\n",
       "19    0.000009\n",
       "20    0.000009\n",
       "21    0.000009\n",
       "22    0.000009\n",
       "24    0.000009\n",
       "33    0.000009\n",
       "Name: decline_app_cnt, dtype: float64"
      ]
     },
     "execution_count": 1796,
     "metadata": {},
     "output_type": "execute_result"
    }
   ],
   "source": [
    "data['decline_app_cnt'].value_counts(normalize=True)"
   ]
  },
  {
   "cell_type": "markdown",
   "metadata": {},
   "source": [
    "Видим, что 96% наблюдений принадлежат категории от 0 до 2. Другими словами, в 83% случаев клиент не имеет отклоненного заявления, и еще в 11% и 3% случаев имеет 1 и 2 отказа соответственно.\n",
    "\n",
    "Сделаем из этой переменной категориальную с категориями 0 --> 0,1-2 --> 1,больше двух --> 2. Проблема с выбросами решена сама собой."
   ]
  },
  {
   "cell_type": "code",
   "execution_count": 1797,
   "metadata": {},
   "outputs": [],
   "source": [
    "data['decline_app_cnt'] = data['decline_app_cnt'].apply(\n",
    "    lambda x: 2 if x >= 3 else (1 if x > 0 else 0))"
   ]
  },
  {
   "cell_type": "code",
   "execution_count": 1798,
   "metadata": {},
   "outputs": [],
   "source": [
    "cat_cols.append('decline_app_cnt')\n",
    "num_cols.remove('decline_app_cnt')"
   ]
  },
  {
   "cell_type": "markdown",
   "metadata": {},
   "source": [
    "__Количество запросов в БКИ__"
   ]
  },
  {
   "cell_type": "code",
   "execution_count": 1799,
   "metadata": {},
   "outputs": [
    {
     "data": {
      "image/png": "[encoded data removed]",
      "text/plain": [
       "<Figure size 864x432 with 2 Axes>"
      ]
     },
     "metadata": {},
     "output_type": "display_data"
    }
   ],
   "source": [
    "visual('bki_request_cnt')"
   ]
  },
  {
   "cell_type": "code",
   "execution_count": 1800,
   "metadata": {},
   "outputs": [
    {
     "name": "stdout",
     "output_type": "stream",
     "text": [
      "Количество выбросов для переменной bki_request_cnt = 2636\n"
     ]
    }
   ],
   "source": [
    "outliers('bki_request_cnt')"
   ]
  },
  {
   "cell_type": "markdown",
   "metadata": {},
   "source": [
    "По гистограмме видим, что количество запросов в БКИ тоже сильно смещено, где превалирующие количество запросов варьируется от 0 до 10. Также имеем достаточно много выбросов. Применим стандартную процедуру логарифмирования."
   ]
  },
  {
   "cell_type": "code",
   "execution_count": 1801,
   "metadata": {},
   "outputs": [],
   "source": [
    "data['bki_request_cnt_log'] = np.log(data['bki_request_cnt'] + 1)"
   ]
  },
  {
   "cell_type": "code",
   "execution_count": 1802,
   "metadata": {},
   "outputs": [
    {
     "data": {
      "image/png": "[encoded data removed]",
      "text/plain": [
       "<Figure size 864x432 with 2 Axes>"
      ]
     },
     "metadata": {},
     "output_type": "display_data"
    }
   ],
   "source": [
    "visual('bki_request_cnt_log')"
   ]
  },
  {
   "cell_type": "code",
   "execution_count": 1803,
   "metadata": {},
   "outputs": [
    {
     "name": "stdout",
     "output_type": "stream",
     "text": [
      "Количество выбросов для переменной bki_request_cnt_log = 15\n"
     ]
    }
   ],
   "source": [
    "outliers('bki_request_cnt_log')"
   ]
  },
  {
   "cell_type": "markdown",
   "metadata": {},
   "source": [
    "Распределение стало чуть более нормальным, а количество выбросов сократилось до 15! Сможем спокойно удалить их позже."
   ]
  },
  {
   "cell_type": "markdown",
   "metadata": {},
   "source": [
    "Наконец, посмотрим на разницу между дефолтными и недефолтными клиентами:"
   ]
  },
  {
   "cell_type": "code",
   "execution_count": 1804,
   "metadata": {
    "scrolled": true
   },
   "outputs": [
    {
     "data": {
      "image/png": "[encoded data removed]",
      "text/plain": [
       "<Figure size 504x360 with 1 Axes>"
      ]
     },
     "metadata": {},
     "output_type": "display_data"
    }
   ],
   "source": [
    "box_hue('bki_request_cnt_log', 'бОльшее количество запросов в БКИ')"
   ]
  },
  {
   "cell_type": "code",
   "execution_count": 1805,
   "metadata": {},
   "outputs": [],
   "source": [
    "num_cols.append('bki_request_cnt_log')\n",
    "num_cols.remove('bki_request_cnt')"
   ]
  },
  {
   "cell_type": "markdown",
   "metadata": {},
   "source": [
    "__Балл БКИ__"
   ]
  },
  {
   "cell_type": "code",
   "execution_count": 1806,
   "metadata": {
    "scrolled": false
   },
   "outputs": [
    {
     "data": {
      "image/png": "[encoded data removed]",
      "text/plain": [
       "<Figure size 864x432 with 2 Axes>"
      ]
     },
     "metadata": {},
     "output_type": "display_data"
    }
   ],
   "source": [
    "visual('score_bki')"
   ]
  },
  {
   "cell_type": "code",
   "execution_count": 1807,
   "metadata": {},
   "outputs": [
    {
     "name": "stdout",
     "output_type": "stream",
     "text": [
      "Количество выбросов для переменной score_bki = 518\n"
     ]
    }
   ],
   "source": [
    "outliers('score_bki')  # небольшое количество выбросов"
   ]
  },
  {
   "cell_type": "markdown",
   "metadata": {},
   "source": [
    "Распределение выглядит довольно нормально - логарифмировать смысла нет, однако присутствуют выбросы, которые следует удалить."
   ]
  },
  {
   "cell_type": "markdown",
   "metadata": {},
   "source": [
    "Посмотрим на разницу дефолтных и не дефолтных клиентов по скорингу БКИ:"
   ]
  },
  {
   "cell_type": "code",
   "execution_count": 1808,
   "metadata": {},
   "outputs": [
    {
     "data": {
      "image/png": "[encoded data removed]",
      "text/plain": [
       "<Figure size 504x360 with 1 Axes>"
      ]
     },
     "metadata": {},
     "output_type": "display_data"
    }
   ],
   "source": [
    "box_hue('score_bki', 'более высокий балл по системе скоринга БКИ')"
   ]
  },
  {
   "cell_type": "markdown",
   "metadata": {},
   "source": [
    "Можно предположить, что система скоринга БКИ не совсем интуитивно понятна, однако из данных следует, что чем меньше балл по этой системе, тем более надежным считается заемщик."
   ]
  },
  {
   "cell_type": "markdown",
   "metadata": {},
   "source": [
    "__Организованно избавимся от выбросов в непрерывных переменных там, где это необходимо:__"
   ]
  },
  {
   "cell_type": "markdown",
   "metadata": {},
   "source": [
    "Поскольку я обрабатывала тренировочный и тестовый датасет вместе - удаление выбросов приводит к несовпадению количества строк у тестовых датасетов (изначального и финального тестового), что, в свою очередь, не позволяет сделать submission. В этом проекте удаление выбросов - не критично, поэтому осознанно пропустим их удаление. \n",
    "\n",
    "Pешение данной проблемы - обрабатывать тренировочный и тестовый датасет по отдельности, что очень времязатратно. Стоит поискать более оптимальное решение и подумать над его имплементацией. "
   ]
  },
  {
   "cell_type": "code",
   "execution_count": 1809,
   "metadata": {},
   "outputs": [],
   "source": [
    "# поиск IQR и границ выбросов\n",
    "# def iqr_outs(col):\n",
    "#Q1, Q3 = np.percentile(col, [25, 75])\n",
    "#IQR = Q3 - Q1\n",
    "#lower_bound = Q1 - (IQR * 1.5)\n",
    "#upper_bound = Q3 + (IQR * 1.5)\n",
    "# return lower_bound, upper_bound"
   ]
  },
  {
   "cell_type": "code",
   "execution_count": 1810,
   "metadata": {},
   "outputs": [],
   "source": [
    "# inspired by Andrew Zhukov\n",
    "# удаление выбросов\n",
    "#сols_to_filter = ['bki_request_cnt_log', 'score_bki']\n",
    "# for colname in сols_to_filter:\n",
    "#d = iqr_outs(data[colname])\n",
    "#data = data.loc[data[colname].between(d[0], d[1])]"
   ]
  },
  {
   "cell_type": "markdown",
   "metadata": {},
   "source": [
    "__Стандартизируем непрерывные переменные:__"
   ]
  },
  {
   "cell_type": "code",
   "execution_count": 1811,
   "metadata": {},
   "outputs": [],
   "source": [
    "data[num_cols] = RobustScaler().fit_transform(data[num_cols])"
   ]
  },
  {
   "cell_type": "markdown",
   "metadata": {},
   "source": [
    "### Корреляционный анализ"
   ]
  },
  {
   "cell_type": "code",
   "execution_count": 1812,
   "metadata": {},
   "outputs": [
    {
     "data": {
      "image/png": "[encoded data removed]",
      "text/plain": [
       "<Figure size 432x288 with 2 Axes>"
      ]
     },
     "metadata": {},
     "output_type": "display_data"
    }
   ],
   "source": [
    "gg = sns.heatmap(data[num_cols].corr().abs(), vmin=0, vmax=1)\n",
    "gg.figure.set_size_inches(6, 4)"
   ]
  },
  {
   "cell_type": "markdown",
   "metadata": {
    "hideCode": false,
    "hidePrompt": false
   },
   "source": [
    "Видим, что высоких корреляций между непрерывными предикторами не обнаруживается,и,следовательно, проблема мультиколлинеарности не возникает."
   ]
  },
  {
   "cell_type": "markdown",
   "metadata": {
    "hideCode": false,
    "hidePrompt": false
   },
   "source": [
    "### Значимость непрерывных переменных"
   ]
  },
  {
   "cell_type": "code",
   "execution_count": 1813,
   "metadata": {
    "hideCode": false,
    "hidePrompt": false
   },
   "outputs": [
    {
     "data": {
      "text/plain": [
       "<matplotlib.axes._subplots.AxesSubplot at 0x1ead1982040>"
      ]
     },
     "execution_count": 1813,
     "metadata": {},
     "output_type": "execute_result"
    },
    {
     "data": {
      "image/png": "[encoded data removed]",
      "text/plain": [
       "<Figure size 432x288 with 1 Axes>"
      ]
     },
     "metadata": {},
     "output_type": "display_data"
    }
   ],
   "source": [
    "# важность непрерывных признаков только на тренировочной выборке, поскольку на тестовой реальных значений целевой переменной нет\n",
    "imp_num = Series(f_classif(data[data['sample'] == 1][num_cols],\n",
    "                           data[data['sample'] == 1]['default'])[0], index=num_cols)\n",
    "imp_num.sort_values(inplace=True)\n",
    "imp_num.plot(kind='barh', title='Predictor importance: F-values')"
   ]
  },
  {
   "cell_type": "markdown",
   "metadata": {},
   "source": [
    "Основываясь на результатах ANOVA, чем выше значение F-value, тем меньше вероятность того, что средние значения наших непрерывных предикторов по двум категориям целевой переменной не отличаются, и тем важнее данный признак для нашей линейной модели. \n",
    "\n",
    "По графику видно, что средний балл БКИ наболее статистически значимо отличается среди дефолтных и не дефолтных клиентов, и, следовательно, этот непрерывный предиктор потенциально вносит наибольший вклад в объяснение целевой переменной."
   ]
  },
  {
   "cell_type": "markdown",
   "metadata": {},
   "source": [
    "### Бинарные переменные"
   ]
  },
  {
   "cell_type": "code",
   "execution_count": 1814,
   "metadata": {},
   "outputs": [],
   "source": [
    "# определим функцию для визуализации категориальных переменных\n",
    "def plot_cat(col):\n",
    "    sns.set(style=\"white\")\n",
    "    plt.figure(figsize=(6, 4))\n",
    "    ax = sns.histplot(data, x=col, hue=\"default\", stat=\"count\", multiple=\"fill\",\n",
    "                      shrink=.8, palette=sns.color_palette('pastel')[:2])\n",
    "    plt.title('Распределение переменной ' +\n",
    "              data[col].name.capitalize()+':', fontsize=18)\n",
    "    ax.set(ylabel='Proportion')\n",
    "    plt.show()"
   ]
  },
  {
   "cell_type": "markdown",
   "metadata": {},
   "source": [
    "__Пол клиента__"
   ]
  },
  {
   "cell_type": "code",
   "execution_count": 1815,
   "metadata": {
    "scrolled": true
   },
   "outputs": [
    {
     "data": {
      "image/png": "[encoded data removed]",
      "text/plain": [
       "<Figure size 432x288 with 1 Axes>"
      ]
     },
     "metadata": {},
     "output_type": "display_data"
    }
   ],
   "source": [
    "plot_cat('sex')  # мужчины допускают дефолт немного чаще, чем женщины"
   ]
  },
  {
   "cell_type": "markdown",
   "metadata": {},
   "source": [
    "__Наличие машины__"
   ]
  },
  {
   "cell_type": "code",
   "execution_count": 1816,
   "metadata": {
    "scrolled": true
   },
   "outputs": [
    {
     "data": {
      "image/png": "[encoded data removed]",
      "text/plain": [
       "<Figure size 432x288 with 1 Axes>"
      ]
     },
     "metadata": {},
     "output_type": "display_data"
    }
   ],
   "source": [
    "plot_cat('car')  # те, у кого нет личного автомобиля, чаще допускают дефолт"
   ]
  },
  {
   "cell_type": "markdown",
   "metadata": {},
   "source": [
    "__Наличие машины-иномарки__"
   ]
  },
  {
   "cell_type": "code",
   "execution_count": 1817,
   "metadata": {
    "scrolled": true
   },
   "outputs": [
    {
     "data": {
      "image/png": "[encoded data removed]",
      "text/plain": [
       "<Figure size 432x288 with 1 Axes>"
      ]
     },
     "metadata": {},
     "output_type": "display_data"
    }
   ],
   "source": [
    "# те, чья машине не является иномаркой, допускают дефолт чаще\n",
    "plot_cat('car_type')"
   ]
  },
  {
   "cell_type": "markdown",
   "metadata": {},
   "source": [
    "__Наличие хорошей работы__"
   ]
  },
  {
   "cell_type": "code",
   "execution_count": 1818,
   "metadata": {},
   "outputs": [],
   "source": [
    "# для консистентности Yes No значений\n",
    "data['good_work'] = np.where(data['good_work'] == 0, 'N', 'Y')"
   ]
  },
  {
   "cell_type": "code",
   "execution_count": 1819,
   "metadata": {
    "scrolled": true
   },
   "outputs": [
    {
     "data": {
      "image/png": "[encoded data removed]",
      "text/plain": [
       "<Figure size 432x288 with 1 Axes>"
      ]
     },
     "metadata": {},
     "output_type": "display_data"
    }
   ],
   "source": [
    "plot_cat('good_work')  # те, у кого хорошая работа, реже допускают дефолт"
   ]
  },
  {
   "cell_type": "markdown",
   "metadata": {},
   "source": [
    "__Наличие загранпаспорта__"
   ]
  },
  {
   "cell_type": "code",
   "execution_count": 1820,
   "metadata": {},
   "outputs": [
    {
     "data": {
      "image/png": "[encoded data removed]",
      "text/plain": [
       "<Figure size 432x288 with 1 Axes>"
      ]
     },
     "metadata": {},
     "output_type": "display_data"
    }
   ],
   "source": [
    "# те, у кого нет загранпаспорта, почти в 2 раза чаще допускают дефолт\n",
    "plot_cat('foreign_passport')"
   ]
  },
  {
   "cell_type": "markdown",
   "metadata": {},
   "source": [
    "Перекодируем бинарные признаки:"
   ]
  },
  {
   "cell_type": "code",
   "execution_count": 1821,
   "metadata": {},
   "outputs": [
    {
     "data": {
      "text/html": [
       "<div>\n",
       "<style scoped>\n",
       "    .dataframe tbody tr th:only-of-type {\n",
       "        vertical-align: middle;\n",
       "    }\n",
       "\n",
       "    .dataframe tbody tr th {\n",
       "        vertical-align: top;\n",
       "    }\n",
       "\n",
       "    .dataframe thead th {\n",
       "        text-align: right;\n",
       "    }\n",
       "</style>\n",
       "<table border=\"1\" class=\"dataframe\">\n",
       "  <thead>\n",
       "    <tr style=\"text-align: right;\">\n",
       "      <th></th>\n",
       "      <th>app_date</th>\n",
       "      <th>education</th>\n",
       "      <th>sex</th>\n",
       "      <th>car</th>\n",
       "      <th>car_type</th>\n",
       "      <th>decline_app_cnt</th>\n",
       "      <th>good_work</th>\n",
       "      <th>score_bki</th>\n",
       "      <th>bki_request_cnt</th>\n",
       "      <th>region_rating</th>\n",
       "      <th>home_address</th>\n",
       "      <th>work_address</th>\n",
       "      <th>sna</th>\n",
       "      <th>first_time</th>\n",
       "      <th>foreign_passport</th>\n",
       "      <th>sample</th>\n",
       "      <th>default</th>\n",
       "      <th>income_log</th>\n",
       "      <th>age_log</th>\n",
       "      <th>bki_request_cnt_log</th>\n",
       "    </tr>\n",
       "  </thead>\n",
       "  <tbody>\n",
       "    <tr>\n",
       "      <th>0</th>\n",
       "      <td>22MAR2014</td>\n",
       "      <td>GRD</td>\n",
       "      <td>1</td>\n",
       "      <td>1</td>\n",
       "      <td>1</td>\n",
       "      <td>0</td>\n",
       "      <td>0</td>\n",
       "      <td>-0.506914</td>\n",
       "      <td>3</td>\n",
       "      <td>50</td>\n",
       "      <td>1</td>\n",
       "      <td>2</td>\n",
       "      <td>1</td>\n",
       "      <td>4</td>\n",
       "      <td>0</td>\n",
       "      <td>0</td>\n",
       "      <td>NaN</td>\n",
       "      <td>0.583492</td>\n",
       "      <td>-0.516321</td>\n",
       "      <td>0.500000</td>\n",
       "    </tr>\n",
       "    <tr>\n",
       "      <th>1</th>\n",
       "      <td>24JAN2014</td>\n",
       "      <td>SCH</td>\n",
       "      <td>0</td>\n",
       "      <td>0</td>\n",
       "      <td>0</td>\n",
       "      <td>2</td>\n",
       "      <td>0</td>\n",
       "      <td>0.600428</td>\n",
       "      <td>2</td>\n",
       "      <td>50</td>\n",
       "      <td>1</td>\n",
       "      <td>2</td>\n",
       "      <td>4</td>\n",
       "      <td>3</td>\n",
       "      <td>0</td>\n",
       "      <td>0</td>\n",
       "      <td>NaN</td>\n",
       "      <td>-2.046507</td>\n",
       "      <td>0.112035</td>\n",
       "      <td>0.292481</td>\n",
       "    </tr>\n",
       "    <tr>\n",
       "      <th>2</th>\n",
       "      <td>23MAR2014</td>\n",
       "      <td>UGR</td>\n",
       "      <td>1</td>\n",
       "      <td>1</td>\n",
       "      <td>1</td>\n",
       "      <td>0</td>\n",
       "      <td>0</td>\n",
       "      <td>0.331363</td>\n",
       "      <td>1</td>\n",
       "      <td>50</td>\n",
       "      <td>1</td>\n",
       "      <td>2</td>\n",
       "      <td>1</td>\n",
       "      <td>3</td>\n",
       "      <td>1</td>\n",
       "      <td>0</td>\n",
       "      <td>NaN</td>\n",
       "      <td>0.000000</td>\n",
       "      <td>0.642678</td>\n",
       "      <td>0.000000</td>\n",
       "    </tr>\n",
       "    <tr>\n",
       "      <th>3</th>\n",
       "      <td>03FEB2014</td>\n",
       "      <td>SCH</td>\n",
       "      <td>1</td>\n",
       "      <td>0</td>\n",
       "      <td>0</td>\n",
       "      <td>0</td>\n",
       "      <td>0</td>\n",
       "      <td>-0.654628</td>\n",
       "      <td>1</td>\n",
       "      <td>40</td>\n",
       "      <td>1</td>\n",
       "      <td>2</td>\n",
       "      <td>1</td>\n",
       "      <td>3</td>\n",
       "      <td>0</td>\n",
       "      <td>0</td>\n",
       "      <td>NaN</td>\n",
       "      <td>-0.648770</td>\n",
       "      <td>0.885618</td>\n",
       "      <td>0.000000</td>\n",
       "    </tr>\n",
       "    <tr>\n",
       "      <th>4</th>\n",
       "      <td>04FEB2014</td>\n",
       "      <td>GRD</td>\n",
       "      <td>0</td>\n",
       "      <td>0</td>\n",
       "      <td>0</td>\n",
       "      <td>0</td>\n",
       "      <td>0</td>\n",
       "      <td>-0.818256</td>\n",
       "      <td>0</td>\n",
       "      <td>80</td>\n",
       "      <td>2</td>\n",
       "      <td>3</td>\n",
       "      <td>1</td>\n",
       "      <td>3</td>\n",
       "      <td>0</td>\n",
       "      <td>0</td>\n",
       "      <td>NaN</td>\n",
       "      <td>1.583512</td>\n",
       "      <td>0.056736</td>\n",
       "      <td>-0.500000</td>\n",
       "    </tr>\n",
       "  </tbody>\n",
       "</table>\n",
       "</div>"
      ],
      "text/plain": [
       "    app_date education  sex  car  car_type  decline_app_cnt  good_work  \\\n",
       "0  22MAR2014       GRD    1    1         1                0          0   \n",
       "1  24JAN2014       SCH    0    0         0                2          0   \n",
       "2  23MAR2014       UGR    1    1         1                0          0   \n",
       "3  03FEB2014       SCH    1    0         0                0          0   \n",
       "4  04FEB2014       GRD    0    0         0                0          0   \n",
       "\n",
       "   score_bki  bki_request_cnt  region_rating  home_address  work_address  sna  \\\n",
       "0  -0.506914                3             50             1             2    1   \n",
       "1   0.600428                2             50             1             2    4   \n",
       "2   0.331363                1             50             1             2    1   \n",
       "3  -0.654628                1             40             1             2    1   \n",
       "4  -0.818256                0             80             2             3    1   \n",
       "\n",
       "   first_time  foreign_passport  sample  default  income_log   age_log  \\\n",
       "0           4                 0       0      NaN    0.583492 -0.516321   \n",
       "1           3                 0       0      NaN   -2.046507  0.112035   \n",
       "2           3                 1       0      NaN    0.000000  0.642678   \n",
       "3           3                 0       0      NaN   -0.648770  0.885618   \n",
       "4           3                 0       0      NaN    1.583512  0.056736   \n",
       "\n",
       "   bki_request_cnt_log  \n",
       "0             0.500000  \n",
       "1             0.292481  \n",
       "2             0.000000  \n",
       "3             0.000000  \n",
       "4            -0.500000  "
      ]
     },
     "execution_count": 1821,
     "metadata": {},
     "output_type": "execute_result"
    }
   ],
   "source": [
    "label_encoder = LabelEncoder()\n",
    "\n",
    "for column in bin_cols:\n",
    "    data[column] = label_encoder.fit_transform(data[column])\n",
    "\n",
    "# проверим, что все бинарные переменные теперь 1 или 0\n",
    "data.head(5)"
   ]
  },
  {
   "cell_type": "markdown",
   "metadata": {},
   "source": [
    "### Категориальные переменные"
   ]
  },
  {
   "cell_type": "code",
   "execution_count": 1822,
   "metadata": {},
   "outputs": [
    {
     "data": {
      "text/plain": [
       "['education',\n",
       " 'work_address',\n",
       " 'home_address',\n",
       " 'sna',\n",
       " 'first_time',\n",
       " 'region_rating',\n",
       " 'app_date',\n",
       " 'decline_app_cnt']"
      ]
     },
     "execution_count": 1822,
     "metadata": {},
     "output_type": "execute_result"
    }
   ],
   "source": [
    "cat_cols"
   ]
  },
  {
   "cell_type": "markdown",
   "metadata": {},
   "source": [
    "__Образование__"
   ]
  },
  {
   "cell_type": "markdown",
   "metadata": {},
   "source": [
    "Среди тех, у кого наивысший уровень образования - школа (SCH) или неоконченное высшее (UGR), чаще всего допускаются дефолты, по сравнению с пропорцией дефолтов в других категориях образования."
   ]
  },
  {
   "cell_type": "code",
   "execution_count": 1823,
   "metadata": {
    "scrolled": false
   },
   "outputs": [
    {
     "data": {
      "image/png": "[encoded data removed]",
      "text/plain": [
       "<Figure size 432x288 with 1 Axes>"
      ]
     },
     "metadata": {},
     "output_type": "display_data"
    }
   ],
   "source": [
    "plot_cat('education')"
   ]
  },
  {
   "cell_type": "code",
   "execution_count": 1824,
   "metadata": {},
   "outputs": [],
   "source": [
    "# теперь поменяем на числовые\n",
    "enc = LabelEncoder()\n",
    "enc.fit(data['education'])\n",
    "data['education'] = enc.transform(data['education'])"
   ]
  },
  {
   "cell_type": "markdown",
   "metadata": {},
   "source": [
    "__Домашний и рабочий адрес__"
   ]
  },
  {
   "cell_type": "code",
   "execution_count": 1825,
   "metadata": {},
   "outputs": [],
   "source": [
    "# чтобы не было проблем с визуализацией\n",
    "data['home_address'] = np.where(\n",
    "    data['home_address'] == 1, '1', np.where(data['home_address'] == 2, '2', '3'))\n",
    "data['work_address'] = np.where(\n",
    "    data['work_address'] == 1, '1', np.where(data['work_address'] == 2, '2', '3'))"
   ]
  },
  {
   "cell_type": "code",
   "execution_count": 1826,
   "metadata": {},
   "outputs": [
    {
     "data": {
      "image/png": "[encoded data removed]",
      "text/plain": [
       "<Figure size 432x288 with 1 Axes>"
      ]
     },
     "metadata": {},
     "output_type": "display_data"
    }
   ],
   "source": [
    "# чаще дефолты допускаются у тех, чей домашний адрес категоризирован как 2\n",
    "plot_cat('home_address')"
   ]
  },
  {
   "cell_type": "code",
   "execution_count": 1827,
   "metadata": {
    "scrolled": true
   },
   "outputs": [
    {
     "data": {
      "image/png": "[encoded data removed]",
      "text/plain": [
       "<Figure size 432x288 with 1 Axes>"
      ]
     },
     "metadata": {},
     "output_type": "display_data"
    }
   ],
   "source": [
    "# чаще дефолты допускаются у тех, чей рабочий адрес категоризирован как 3\n",
    "plot_cat('work_address')"
   ]
  },
  {
   "cell_type": "markdown",
   "metadata": {},
   "source": [
    "__Связь заемщика с клиентами банка__"
   ]
  },
  {
   "cell_type": "code",
   "execution_count": 1828,
   "metadata": {},
   "outputs": [],
   "source": [
    "# чтобы не было проблем с визуализацией\n",
    "data['sna'] = np.where(data['sna'] == 1, '1', np.where(\n",
    "    data['sna'] == 2, '2', np.where(data['sna'] == 3, '3', 4)))"
   ]
  },
  {
   "cell_type": "code",
   "execution_count": 1829,
   "metadata": {
    "scrolled": true
   },
   "outputs": [
    {
     "data": {
      "image/png": "[encoded data removed]",
      "text/plain": [
       "<Figure size 432x288 with 1 Axes>"
      ]
     },
     "metadata": {},
     "output_type": "display_data"
    }
   ],
   "source": [
    "# чаще дефолты допускаются, если связь заемщика с клиентами банка оценивается на 4 из диапазона 1-4\n",
    "plot_cat('sna')"
   ]
  },
  {
   "cell_type": "markdown",
   "metadata": {},
   "source": [
    "__Давность наличия информации о заемщике__"
   ]
  },
  {
   "cell_type": "code",
   "execution_count": 1830,
   "metadata": {},
   "outputs": [],
   "source": [
    "# чтобы не было проблем с визуализацией\n",
    "data['first_time'] = np.where(data['first_time'] == 1, '1', np.where(\n",
    "    data['first_time'] == 2, '2', np.where(data['first_time'] == 3, '3', 4)))"
   ]
  },
  {
   "cell_type": "code",
   "execution_count": 1831,
   "metadata": {
    "scrolled": true
   },
   "outputs": [
    {
     "data": {
      "image/png": "[encoded data removed]",
      "text/plain": [
       "<Figure size 432x288 with 1 Axes>"
      ]
     },
     "metadata": {},
     "output_type": "display_data"
    }
   ],
   "source": [
    "# можно предположить, новые заемщики (1 из 4 по давности) допускают дефолты чаще\n",
    "plot_cat('first_time')"
   ]
  },
  {
   "cell_type": "markdown",
   "metadata": {},
   "source": [
    "__Рейтинг региона__"
   ]
  },
  {
   "cell_type": "code",
   "execution_count": 1832,
   "metadata": {},
   "outputs": [],
   "source": [
    "data['region_rating'] = np.where(data['region_rating'] == 20, '20',\n",
    "                                 np.where(data['region_rating'] == 30, '30',\n",
    "                                          np.where(data['region_rating'] == 40, '40',\n",
    "                                                   np.where(data['region_rating'] == 50, '50',\n",
    "                                                            np.where(data['region_rating'] == 60, '60',\n",
    "                                                                     np.where(data['region_rating'] == 70, '70', '80'))))))"
   ]
  },
  {
   "cell_type": "code",
   "execution_count": 1833,
   "metadata": {
    "scrolled": true
   },
   "outputs": [
    {
     "data": {
      "image/png": "[encoded data removed]",
      "text/plain": [
       "<Figure size 432x288 with 1 Axes>"
      ]
     },
     "metadata": {},
     "output_type": "display_data"
    }
   ],
   "source": [
    "plot_cat('region_rating')\n",
    "# можно предположить, что более плохим районам давали меньший рейтинг, и, поэтому, там чаще допускаются дефолты"
   ]
  },
  {
   "cell_type": "markdown",
   "metadata": {},
   "source": [
    "__Количество отклоненных заявок__"
   ]
  },
  {
   "cell_type": "code",
   "execution_count": 1834,
   "metadata": {},
   "outputs": [],
   "source": [
    "data['decline_app_cnt'] = np.where(data['decline_app_cnt'] == 0, '0', np.where(\n",
    "    data['decline_app_cnt'] == 1, '1', '2'))"
   ]
  },
  {
   "cell_type": "code",
   "execution_count": 1835,
   "metadata": {},
   "outputs": [
    {
     "data": {
      "image/png": "[encoded data removed]",
      "text/plain": [
       "<Figure size 432x288 with 1 Axes>"
      ]
     },
     "metadata": {},
     "output_type": "display_data"
    }
   ],
   "source": [
    "# у заемщиков, которым отказывали в кредите больше 2 раз, наиболее часто случается дефолт\n",
    "plot_cat('decline_app_cnt')"
   ]
  },
  {
   "cell_type": "markdown",
   "metadata": {},
   "source": [
    "### Поработаем с признаком `дата заявки на кредит` (`app_date`)"
   ]
  },
  {
   "cell_type": "code",
   "execution_count": 1836,
   "metadata": {},
   "outputs": [],
   "source": [
    "from datetime import datetime\n",
    "data['app_date'] = pd.to_datetime(\n",
    "    data['app_date'], format='%d%b%Y')  # преобразуем в дату"
   ]
  },
  {
   "cell_type": "markdown",
   "metadata": {},
   "source": [
    "Посчитаем пропорцию заявок по месяцам.\n",
    "\n",
    "Есть данные по 4 месяцам: январь, февраль, март и апрель (1-4). Заявок примерно одинаково в каждый месяц, но в марте чуть больше."
   ]
  },
  {
   "cell_type": "code",
   "execution_count": 1837,
   "metadata": {
    "scrolled": true
   },
   "outputs": [
    {
     "data": {
      "text/plain": [
       "3    0.286859\n",
       "2    0.246005\n",
       "4    0.238461\n",
       "1    0.228674\n",
       "Name: app_date, dtype: float64"
      ]
     },
     "execution_count": 1837,
     "metadata": {},
     "output_type": "execute_result"
    }
   ],
   "source": [
    "data['app_date'].dt.month.value_counts(normalize=True)"
   ]
  },
  {
   "cell_type": "markdown",
   "metadata": {},
   "source": [
    "Добавим новый признак - месяц:"
   ]
  },
  {
   "cell_type": "code",
   "execution_count": 1838,
   "metadata": {},
   "outputs": [],
   "source": [
    "data['app_month'] = data['app_date'].dt.month"
   ]
  },
  {
   "cell_type": "code",
   "execution_count": 1839,
   "metadata": {},
   "outputs": [],
   "source": [
    "data['app_month'] = np.where(data['app_month'] == 1, '1', np.where(data['app_month'] == 2,\n",
    "                                                                   '2', np.where(data['app_month'] == 3, '3', '4')))"
   ]
  },
  {
   "cell_type": "code",
   "execution_count": 1840,
   "metadata": {},
   "outputs": [
    {
     "data": {
      "image/png": "[encoded data removed]",
      "text/plain": [
       "<Figure size 432x288 with 1 Axes>"
      ]
     },
     "metadata": {},
     "output_type": "display_data"
    }
   ],
   "source": [
    "# дефолтов везде примерно одинаково, однако для заявивших на кредит в январе дефолтов допущено чуть больше\n",
    "plot_cat('app_month')"
   ]
  },
  {
   "cell_type": "code",
   "execution_count": 1841,
   "metadata": {},
   "outputs": [],
   "source": [
    "data = data.drop('app_date', axis=1)"
   ]
  },
  {
   "cell_type": "code",
   "execution_count": 1842,
   "metadata": {},
   "outputs": [],
   "source": [
    "cat_cols.append('app_month')\n",
    "cat_cols.remove('app_date')"
   ]
  },
  {
   "cell_type": "markdown",
   "metadata": {},
   "source": [
    "### Значимость категориальных (и бинарных) признаков"
   ]
  },
  {
   "cell_type": "code",
   "execution_count": 1843,
   "metadata": {},
   "outputs": [
    {
     "data": {
      "text/plain": [
       "<matplotlib.axes._subplots.AxesSubplot at 0x1ea8386c6d0>"
      ]
     },
     "execution_count": 1843,
     "metadata": {},
     "output_type": "execute_result"
    },
    {
     "data": {
      "image/png": "[encoded data removed]",
      "text/plain": [
       "<Figure size 432x288 with 1 Axes>"
      ]
     },
     "metadata": {},
     "output_type": "display_data"
    }
   ],
   "source": [
    "imp_cat = Series(mutual_info_classif(data[data['sample'] == 1][bin_cols + cat_cols], data[data['sample'] == 1]['default'],\n",
    "                                     discrete_features=True), index=bin_cols + cat_cols)\n",
    "imp_cat.sort_values(inplace=True)\n",
    "imp_cat.plot(kind='barh', title='Categorical predictor importance')"
   ]
  },
  {
   "cell_type": "markdown",
   "metadata": {},
   "source": [
    "По графику видно, что из категориальных переменных нибольший вклад в модель вносят переменные `связь заемщика с клиентами банка` и `количество отклоненных заявок`."
   ]
  },
  {
   "cell_type": "markdown",
   "metadata": {},
   "source": [
    "Перекодируем все категориальные переменные в dummy:"
   ]
  },
  {
   "cell_type": "code",
   "execution_count": 1844,
   "metadata": {},
   "outputs": [],
   "source": [
    "data = pd.get_dummies(data, prefix=cat_cols, columns=cat_cols)"
   ]
  },
  {
   "cell_type": "markdown",
   "metadata": {},
   "source": [
    "__Проверим, что все типы переменных модифицировались нормально:__"
   ]
  },
  {
   "cell_type": "code",
   "execution_count": 1845,
   "metadata": {},
   "outputs": [
    {
     "data": {
      "text/html": [
       "<div>\n",
       "<style scoped>\n",
       "    .dataframe tbody tr th:only-of-type {\n",
       "        vertical-align: middle;\n",
       "    }\n",
       "\n",
       "    .dataframe tbody tr th {\n",
       "        vertical-align: top;\n",
       "    }\n",
       "\n",
       "    .dataframe thead th {\n",
       "        text-align: right;\n",
       "    }\n",
       "</style>\n",
       "<table border=\"1\" class=\"dataframe\">\n",
       "  <thead>\n",
       "    <tr style=\"text-align: right;\">\n",
       "      <th></th>\n",
       "      <th>score_bki</th>\n",
       "      <th>income_log</th>\n",
       "      <th>age_log</th>\n",
       "      <th>bki_request_cnt_log</th>\n",
       "    </tr>\n",
       "  </thead>\n",
       "  <tbody>\n",
       "    <tr>\n",
       "      <th>0</th>\n",
       "      <td>-0.506914</td>\n",
       "      <td>0.583492</td>\n",
       "      <td>-0.516321</td>\n",
       "      <td>0.500000</td>\n",
       "    </tr>\n",
       "    <tr>\n",
       "      <th>1</th>\n",
       "      <td>0.600428</td>\n",
       "      <td>-2.046507</td>\n",
       "      <td>0.112035</td>\n",
       "      <td>0.292481</td>\n",
       "    </tr>\n",
       "    <tr>\n",
       "      <th>2</th>\n",
       "      <td>0.331363</td>\n",
       "      <td>0.000000</td>\n",
       "      <td>0.642678</td>\n",
       "      <td>0.000000</td>\n",
       "    </tr>\n",
       "    <tr>\n",
       "      <th>3</th>\n",
       "      <td>-0.654628</td>\n",
       "      <td>-0.648770</td>\n",
       "      <td>0.885618</td>\n",
       "      <td>0.000000</td>\n",
       "    </tr>\n",
       "  </tbody>\n",
       "</table>\n",
       "</div>"
      ],
      "text/plain": [
       "   score_bki  income_log   age_log  bki_request_cnt_log\n",
       "0  -0.506914    0.583492 -0.516321             0.500000\n",
       "1   0.600428   -2.046507  0.112035             0.292481\n",
       "2   0.331363    0.000000  0.642678             0.000000\n",
       "3  -0.654628   -0.648770  0.885618             0.000000"
      ]
     },
     "execution_count": 1845,
     "metadata": {},
     "output_type": "execute_result"
    }
   ],
   "source": [
    "data[num_cols].head(4)  # все непрерывные перемнные в порядке"
   ]
  },
  {
   "cell_type": "code",
   "execution_count": 1846,
   "metadata": {
    "scrolled": true
   },
   "outputs": [
    {
     "data": {
      "text/html": [
       "<div>\n",
       "<style scoped>\n",
       "    .dataframe tbody tr th:only-of-type {\n",
       "        vertical-align: middle;\n",
       "    }\n",
       "\n",
       "    .dataframe tbody tr th {\n",
       "        vertical-align: top;\n",
       "    }\n",
       "\n",
       "    .dataframe thead th {\n",
       "        text-align: right;\n",
       "    }\n",
       "</style>\n",
       "<table border=\"1\" class=\"dataframe\">\n",
       "  <thead>\n",
       "    <tr style=\"text-align: right;\">\n",
       "      <th></th>\n",
       "      <th>sex</th>\n",
       "      <th>car</th>\n",
       "      <th>car_type</th>\n",
       "      <th>good_work</th>\n",
       "      <th>foreign_passport</th>\n",
       "    </tr>\n",
       "  </thead>\n",
       "  <tbody>\n",
       "    <tr>\n",
       "      <th>0</th>\n",
       "      <td>1</td>\n",
       "      <td>1</td>\n",
       "      <td>1</td>\n",
       "      <td>0</td>\n",
       "      <td>0</td>\n",
       "    </tr>\n",
       "    <tr>\n",
       "      <th>1</th>\n",
       "      <td>0</td>\n",
       "      <td>0</td>\n",
       "      <td>0</td>\n",
       "      <td>0</td>\n",
       "      <td>0</td>\n",
       "    </tr>\n",
       "    <tr>\n",
       "      <th>2</th>\n",
       "      <td>1</td>\n",
       "      <td>1</td>\n",
       "      <td>1</td>\n",
       "      <td>0</td>\n",
       "      <td>1</td>\n",
       "    </tr>\n",
       "    <tr>\n",
       "      <th>3</th>\n",
       "      <td>1</td>\n",
       "      <td>0</td>\n",
       "      <td>0</td>\n",
       "      <td>0</td>\n",
       "      <td>0</td>\n",
       "    </tr>\n",
       "  </tbody>\n",
       "</table>\n",
       "</div>"
      ],
      "text/plain": [
       "   sex  car  car_type  good_work  foreign_passport\n",
       "0    1    1         1          0                 0\n",
       "1    0    0         0          0                 0\n",
       "2    1    1         1          0                 1\n",
       "3    1    0         0          0                 0"
      ]
     },
     "execution_count": 1846,
     "metadata": {},
     "output_type": "execute_result"
    }
   ],
   "source": [
    "data[bin_cols].head(4)  # все бинарные перемнные в порядке"
   ]
  },
  {
   "cell_type": "code",
   "execution_count": 1847,
   "metadata": {
    "scrolled": true
   },
   "outputs": [
    {
     "data": {
      "text/html": [
       "<div>\n",
       "<style scoped>\n",
       "    .dataframe tbody tr th:only-of-type {\n",
       "        vertical-align: middle;\n",
       "    }\n",
       "\n",
       "    .dataframe tbody tr th {\n",
       "        vertical-align: top;\n",
       "    }\n",
       "\n",
       "    .dataframe thead th {\n",
       "        text-align: right;\n",
       "    }\n",
       "</style>\n",
       "<table border=\"1\" class=\"dataframe\">\n",
       "  <thead>\n",
       "    <tr style=\"text-align: right;\">\n",
       "      <th></th>\n",
       "      <th>bki_request_cnt</th>\n",
       "      <th>sample</th>\n",
       "      <th>default</th>\n",
       "      <th>education_0</th>\n",
       "      <th>education_1</th>\n",
       "      <th>education_2</th>\n",
       "      <th>education_3</th>\n",
       "      <th>education_4</th>\n",
       "      <th>work_address_1</th>\n",
       "      <th>work_address_2</th>\n",
       "      <th>...</th>\n",
       "      <th>region_rating_60</th>\n",
       "      <th>region_rating_70</th>\n",
       "      <th>region_rating_80</th>\n",
       "      <th>decline_app_cnt_0</th>\n",
       "      <th>decline_app_cnt_1</th>\n",
       "      <th>decline_app_cnt_2</th>\n",
       "      <th>app_month_1</th>\n",
       "      <th>app_month_2</th>\n",
       "      <th>app_month_3</th>\n",
       "      <th>app_month_4</th>\n",
       "    </tr>\n",
       "  </thead>\n",
       "  <tbody>\n",
       "    <tr>\n",
       "      <th>0</th>\n",
       "      <td>3</td>\n",
       "      <td>0</td>\n",
       "      <td>NaN</td>\n",
       "      <td>0</td>\n",
       "      <td>1</td>\n",
       "      <td>0</td>\n",
       "      <td>0</td>\n",
       "      <td>0</td>\n",
       "      <td>0</td>\n",
       "      <td>1</td>\n",
       "      <td>...</td>\n",
       "      <td>0</td>\n",
       "      <td>0</td>\n",
       "      <td>0</td>\n",
       "      <td>1</td>\n",
       "      <td>0</td>\n",
       "      <td>0</td>\n",
       "      <td>0</td>\n",
       "      <td>0</td>\n",
       "      <td>1</td>\n",
       "      <td>0</td>\n",
       "    </tr>\n",
       "    <tr>\n",
       "      <th>1</th>\n",
       "      <td>2</td>\n",
       "      <td>0</td>\n",
       "      <td>NaN</td>\n",
       "      <td>0</td>\n",
       "      <td>0</td>\n",
       "      <td>0</td>\n",
       "      <td>1</td>\n",
       "      <td>0</td>\n",
       "      <td>0</td>\n",
       "      <td>1</td>\n",
       "      <td>...</td>\n",
       "      <td>0</td>\n",
       "      <td>0</td>\n",
       "      <td>0</td>\n",
       "      <td>0</td>\n",
       "      <td>0</td>\n",
       "      <td>1</td>\n",
       "      <td>1</td>\n",
       "      <td>0</td>\n",
       "      <td>0</td>\n",
       "      <td>0</td>\n",
       "    </tr>\n",
       "    <tr>\n",
       "      <th>2</th>\n",
       "      <td>1</td>\n",
       "      <td>0</td>\n",
       "      <td>NaN</td>\n",
       "      <td>0</td>\n",
       "      <td>0</td>\n",
       "      <td>0</td>\n",
       "      <td>0</td>\n",
       "      <td>1</td>\n",
       "      <td>0</td>\n",
       "      <td>1</td>\n",
       "      <td>...</td>\n",
       "      <td>0</td>\n",
       "      <td>0</td>\n",
       "      <td>0</td>\n",
       "      <td>1</td>\n",
       "      <td>0</td>\n",
       "      <td>0</td>\n",
       "      <td>0</td>\n",
       "      <td>0</td>\n",
       "      <td>1</td>\n",
       "      <td>0</td>\n",
       "    </tr>\n",
       "    <tr>\n",
       "      <th>3</th>\n",
       "      <td>1</td>\n",
       "      <td>0</td>\n",
       "      <td>NaN</td>\n",
       "      <td>0</td>\n",
       "      <td>0</td>\n",
       "      <td>0</td>\n",
       "      <td>1</td>\n",
       "      <td>0</td>\n",
       "      <td>0</td>\n",
       "      <td>1</td>\n",
       "      <td>...</td>\n",
       "      <td>0</td>\n",
       "      <td>0</td>\n",
       "      <td>0</td>\n",
       "      <td>1</td>\n",
       "      <td>0</td>\n",
       "      <td>0</td>\n",
       "      <td>0</td>\n",
       "      <td>1</td>\n",
       "      <td>0</td>\n",
       "      <td>0</td>\n",
       "    </tr>\n",
       "  </tbody>\n",
       "</table>\n",
       "<p>4 rows × 36 columns</p>\n",
       "</div>"
      ],
      "text/plain": [
       "   bki_request_cnt  sample  default  education_0  education_1  education_2  \\\n",
       "0                3       0      NaN            0            1            0   \n",
       "1                2       0      NaN            0            0            0   \n",
       "2                1       0      NaN            0            0            0   \n",
       "3                1       0      NaN            0            0            0   \n",
       "\n",
       "   education_3  education_4  work_address_1  work_address_2  ...  \\\n",
       "0            0            0               0               1  ...   \n",
       "1            1            0               0               1  ...   \n",
       "2            0            1               0               1  ...   \n",
       "3            1            0               0               1  ...   \n",
       "\n",
       "   region_rating_60  region_rating_70  region_rating_80  decline_app_cnt_0  \\\n",
       "0                 0                 0                 0                  1   \n",
       "1                 0                 0                 0                  0   \n",
       "2                 0                 0                 0                  1   \n",
       "3                 0                 0                 0                  1   \n",
       "\n",
       "   decline_app_cnt_1  decline_app_cnt_2  app_month_1  app_month_2  \\\n",
       "0                  0                  0            0            0   \n",
       "1                  0                  1            1            0   \n",
       "2                  0                  0            0            0   \n",
       "3                  0                  0            0            1   \n",
       "\n",
       "   app_month_3  app_month_4  \n",
       "0            1            0  \n",
       "1            0            0  \n",
       "2            1            0  \n",
       "3            0            0  \n",
       "\n",
       "[4 rows x 36 columns]"
      ]
     },
     "execution_count": 1847,
     "metadata": {},
     "output_type": "execute_result"
    }
   ],
   "source": [
    "df1 = data.drop(num_cols, axis=1)\n",
    "df = df1.drop(bin_cols, axis=1)\n",
    "df.head(4)  # все бинарные перемнные в порядке"
   ]
  },
  {
   "cell_type": "markdown",
   "metadata": {},
   "source": [
    "### Работа с целевой переменной"
   ]
  },
  {
   "cell_type": "markdown",
   "metadata": {},
   "source": [
    "Посмотрим как распределяются знаения целевой переменной:"
   ]
  },
  {
   "cell_type": "code",
   "execution_count": 1848,
   "metadata": {},
   "outputs": [
    {
     "data": {
      "text/plain": [
       "0.0    0.873006\n",
       "1.0    0.126994\n",
       "Name: default, dtype: float64"
      ]
     },
     "execution_count": 1848,
     "metadata": {},
     "output_type": "execute_result"
    }
   ],
   "source": [
    "data['default'].value_counts(normalize=True)  # 87% - не дефолт, 13% - дефолт"
   ]
  },
  {
   "cell_type": "code",
   "execution_count": 1849,
   "metadata": {},
   "outputs": [
    {
     "data": {
      "text/plain": [
       "<matplotlib.axes._subplots.AxesSubplot at 0x1ead6184a60>"
      ]
     },
     "execution_count": 1849,
     "metadata": {},
     "output_type": "execute_result"
    },
    {
     "data": {
      "image/png": "[encoded data removed]",
      "text/plain": [
       "<Figure size 432x288 with 1 Axes>"
      ]
     },
     "metadata": {},
     "output_type": "display_data"
    }
   ],
   "source": [
    "sns.countplot(x='default', data=data)"
   ]
  },
  {
   "cell_type": "markdown",
   "metadata": {},
   "source": [
    "Видим, что целевая переменная распределена очень неравномерно. Позже применим метод random oversampling, чтобы справиться с этой проблемой."
   ]
  },
  {
   "cell_type": "markdown",
   "metadata": {},
   "source": [
    "## Обучение модели логистической регрессии"
   ]
  },
  {
   "cell_type": "code",
   "execution_count": 1850,
   "metadata": {},
   "outputs": [],
   "source": [
    "# Таблица метрик для сравнения результатов каждой модели -- заимствовано у Melnik Natalia\n",
    "metrics = ['accuracy', 'precision', 'recall', 'f1_score', 'ROC_AUC']\n",
    "summary = pd.DataFrame(index=metrics)\n",
    "\n",
    "\n",
    "def summary_metrics(summary, col, y_valid, y_pred, y_probs):\n",
    "    values = [accuracy_score(y_valid, y_pred), precision_score(y_valid, y_pred), recall_score(y_valid, y_pred),\n",
    "              f1_score(y_valid, y_pred), roc_auc_score(y_valid, y_probs)]\n",
    "    summary[col] = values\n",
    "    return summary"
   ]
  },
  {
   "cell_type": "code",
   "execution_count": 1851,
   "metadata": {
    "hideCode": false,
    "hidePrompt": false
   },
   "outputs": [],
   "source": [
    "# разделим снова на train и test, т.к. все признаки уже обработаны\n",
    "train_data = data[data['sample'] == 1].drop(['sample'], axis=1)\n",
    "test_data = data[data['sample'] == 0].drop(['sample'], axis=1)"
   ]
  },
  {
   "cell_type": "code",
   "execution_count": 1852,
   "metadata": {},
   "outputs": [],
   "source": [
    "# выделим целевую переменную и признаки\n",
    "X = train_data.drop(['default'], axis=1).values\n",
    "y = train_data['default'].values"
   ]
  },
  {
   "cell_type": "code",
   "execution_count": 1853,
   "metadata": {},
   "outputs": [],
   "source": [
    "# сбалансируем классы в целевой переменной методом undersampling\n",
    "under_sampler = RandomUnderSampler(random_state=42)\n",
    "X, y = under_sampler.fit_resample(X, y)"
   ]
  },
  {
   "cell_type": "code",
   "execution_count": 1854,
   "metadata": {},
   "outputs": [],
   "source": [
    "# разделим на тренировочные и валидационные выборки\n",
    "X_train, X_valid, y_train, y_valid = train_test_split(\n",
    "    X, y, test_size=0.30, random_state=42, stratify=y)"
   ]
  },
  {
   "cell_type": "code",
   "execution_count": 1855,
   "metadata": {},
   "outputs": [
    {
     "data": {
      "text/plain": [
       "LogisticRegression(max_iter=1000, random_state=42)"
      ]
     },
     "execution_count": 1855,
     "metadata": {},
     "output_type": "execute_result"
    }
   ],
   "source": [
    "my_model = LogisticRegression(random_state=42, max_iter=1000)\n",
    "my_model.fit(X_train, y_train)  # обучаем модель"
   ]
  },
  {
   "cell_type": "code",
   "execution_count": 1856,
   "metadata": {},
   "outputs": [],
   "source": [
    "# предсказываем вероятности для ROC AUC\n",
    "probs = my_model.predict_proba(X_valid)\n",
    "y_probs = probs[:, 1]\n",
    "\n",
    "y_pred = my_model.predict(X_valid)  # предсказываем сами значения"
   ]
  },
  {
   "cell_type": "code",
   "execution_count": 1857,
   "metadata": {
    "scrolled": true
   },
   "outputs": [
    {
     "data": {
      "text/html": [
       "<div>\n",
       "<style scoped>\n",
       "    .dataframe tbody tr th:only-of-type {\n",
       "        vertical-align: middle;\n",
       "    }\n",
       "\n",
       "    .dataframe tbody tr th {\n",
       "        vertical-align: top;\n",
       "    }\n",
       "\n",
       "    .dataframe thead th {\n",
       "        text-align: right;\n",
       "    }\n",
       "</style>\n",
       "<table border=\"1\" class=\"dataframe\">\n",
       "  <thead>\n",
       "    <tr style=\"text-align: right;\">\n",
       "      <th></th>\n",
       "      <th>model1</th>\n",
       "    </tr>\n",
       "  </thead>\n",
       "  <tbody>\n",
       "    <tr>\n",
       "      <th>accuracy</th>\n",
       "      <td>0.664829</td>\n",
       "    </tr>\n",
       "    <tr>\n",
       "      <th>precision</th>\n",
       "      <td>0.664654</td>\n",
       "    </tr>\n",
       "    <tr>\n",
       "      <th>recall</th>\n",
       "      <td>0.665363</td>\n",
       "    </tr>\n",
       "    <tr>\n",
       "      <th>f1_score</th>\n",
       "      <td>0.665008</td>\n",
       "    </tr>\n",
       "    <tr>\n",
       "      <th>ROC_AUC</th>\n",
       "      <td>0.729663</td>\n",
       "    </tr>\n",
       "  </tbody>\n",
       "</table>\n",
       "</div>"
      ],
      "text/plain": [
       "             model1\n",
       "accuracy   0.664829\n",
       "precision  0.664654\n",
       "recall     0.665363\n",
       "f1_score   0.665008\n",
       "ROC_AUC    0.729663"
      ]
     },
     "execution_count": 1857,
     "metadata": {},
     "output_type": "execute_result"
    }
   ],
   "source": [
    "# посмотрим метрики базовой модели\n",
    "summary_metrics(summary, 'model1', y_valid, y_pred, y_probs)"
   ]
  },
  {
   "cell_type": "markdown",
   "metadata": {},
   "source": [
    "Метрики довольно неплохие, применение undersampling решило проблему очень низкого recall и f1 score (неспособность модели хорошо находить позитивный класс - в нашем случае: определять дефолтных клиентов), которые возникали при несбалансированной выборке. "
   ]
  },
  {
   "cell_type": "code",
   "execution_count": 1858,
   "metadata": {
    "scrolled": true
   },
   "outputs": [
    {
     "data": {
      "text/plain": [
       "<sklearn.metrics._plot.confusion_matrix.ConfusionMatrixDisplay at 0x1ead005f310>"
      ]
     },
     "execution_count": 1858,
     "metadata": {},
     "output_type": "execute_result"
    },
    {
     "data": {
      "image/png": "[encoded data removed]",
      "text/plain": [
       "<Figure size 432x288 with 2 Axes>"
      ]
     },
     "metadata": {},
     "output_type": "display_data"
    }
   ],
   "source": [
    "plot_confusion_matrix(my_model, X_valid, y_valid)"
   ]
  },
  {
   "cell_type": "markdown",
   "metadata": {},
   "source": [
    "Видим, что модель достаточно хорошо определяет как дефолтных, так и не дефолтных клиентов, что очень важно в рамках нашей задачи."
   ]
  },
  {
   "cell_type": "markdown",
   "metadata": {},
   "source": [
    "### Поиск оптимальных гиперпараметров"
   ]
  },
  {
   "cell_type": "code",
   "execution_count": 1859,
   "metadata": {},
   "outputs": [
    {
     "name": "stdout",
     "output_type": "stream",
     "text": [
      "Лучший penalty: l2\n",
      "Лучшее C: 59.94842503189409\n"
     ]
    }
   ],
   "source": [
    "# Зададим ограничения для параметра регуляризации\n",
    "C = np.logspace(0, 4, 10)\n",
    "\n",
    "penalty = ['l1', 'l2']\n",
    "hyperparameters = dict(C=C, penalty=penalty)\n",
    "\n",
    "model = LogisticRegression()\n",
    "model.fit(X_train, y_train)\n",
    "\n",
    "clf = GridSearchCV(model, hyperparameters, cv=5, verbose=0)\n",
    "\n",
    "best_model = clf.fit(X_train, y_train)\n",
    "\n",
    "print('Лучший penalty:', best_model.best_estimator_.get_params()['penalty'])\n",
    "print('Лучшее C:', best_model.best_estimator_.get_params()['C'])"
   ]
  },
  {
   "cell_type": "code",
   "execution_count": 1860,
   "metadata": {},
   "outputs": [
    {
     "data": {
      "text/plain": [
       "LogisticRegression(C=7.742636826811269, max_iter=1000)"
      ]
     },
     "execution_count": 1860,
     "metadata": {},
     "output_type": "execute_result"
    }
   ],
   "source": [
    "# обучаем модель с подобранными параметрами\n",
    "model_best_params = LogisticRegression(\n",
    "    penalty='l2', C=7.742636826811269, max_iter=1000)\n",
    "model_best_params.fit(X_train, y_train)"
   ]
  },
  {
   "cell_type": "code",
   "execution_count": 1861,
   "metadata": {},
   "outputs": [],
   "source": [
    "probs = model_best_params.predict_proba(X_valid)\n",
    "y_probs = probs[:, 1]\n",
    "y_pred = model_best_params.predict(X_valid)"
   ]
  },
  {
   "cell_type": "code",
   "execution_count": 1862,
   "metadata": {
    "scrolled": false
   },
   "outputs": [
    {
     "data": {
      "text/html": [
       "<div>\n",
       "<style scoped>\n",
       "    .dataframe tbody tr th:only-of-type {\n",
       "        vertical-align: middle;\n",
       "    }\n",
       "\n",
       "    .dataframe tbody tr th {\n",
       "        vertical-align: top;\n",
       "    }\n",
       "\n",
       "    .dataframe thead th {\n",
       "        text-align: right;\n",
       "    }\n",
       "</style>\n",
       "<table border=\"1\" class=\"dataframe\">\n",
       "  <thead>\n",
       "    <tr style=\"text-align: right;\">\n",
       "      <th></th>\n",
       "      <th>model1</th>\n",
       "      <th>model2</th>\n",
       "    </tr>\n",
       "  </thead>\n",
       "  <tbody>\n",
       "    <tr>\n",
       "      <th>accuracy</th>\n",
       "      <td>0.664829</td>\n",
       "      <td>0.664651</td>\n",
       "    </tr>\n",
       "    <tr>\n",
       "      <th>precision</th>\n",
       "      <td>0.664654</td>\n",
       "      <td>0.664418</td>\n",
       "    </tr>\n",
       "    <tr>\n",
       "      <th>recall</th>\n",
       "      <td>0.665363</td>\n",
       "      <td>0.665363</td>\n",
       "    </tr>\n",
       "    <tr>\n",
       "      <th>f1_score</th>\n",
       "      <td>0.665008</td>\n",
       "      <td>0.664890</td>\n",
       "    </tr>\n",
       "    <tr>\n",
       "      <th>ROC_AUC</th>\n",
       "      <td>0.729663</td>\n",
       "      <td>0.729611</td>\n",
       "    </tr>\n",
       "  </tbody>\n",
       "</table>\n",
       "</div>"
      ],
      "text/plain": [
       "             model1    model2\n",
       "accuracy   0.664829  0.664651\n",
       "precision  0.664654  0.664418\n",
       "recall     0.665363  0.665363\n",
       "f1_score   0.665008  0.664890\n",
       "ROC_AUC    0.729663  0.729611"
      ]
     },
     "execution_count": 1862,
     "metadata": {},
     "output_type": "execute_result"
    }
   ],
   "source": [
    "# сравним метрики с предыдущей моделью\n",
    "# метрики практически не изменились\n",
    "summary_metrics(summary, 'model2', y_valid, y_pred, y_probs)"
   ]
  },
  {
   "cell_type": "markdown",
   "metadata": {},
   "source": [
    "__Более сложный поиск гиперпараметров:__"
   ]
  },
  {
   "cell_type": "code",
   "execution_count": 1863,
   "metadata": {},
   "outputs": [],
   "source": [
    "model = LogisticRegression(random_state=42)\n",
    "param_grid = [\n",
    "    {'penalty': ['l1'],\n",
    "     'solver': ['liblinear', 'lbfgs'],\n",
    "     'class_weight':['none', 'balanced'],\n",
    "     'multi_class': ['auto', 'ovr']},\n",
    "    {'penalty': ['l2'],\n",
    "     'solver': ['newton-cg', 'lbfgs', 'liblinear', 'sag', 'saga'],\n",
    "     'class_weight':['none', 'balanced'],\n",
    "     'multi_class': ['auto', 'ovr']},\n",
    "    {'penalty': ['none'],\n",
    "     'solver': ['newton-cg', 'lbfgs', 'sag', 'saga'],\n",
    "     'class_weight':['none', 'balanced'],\n",
    "     'multi_class': ['auto', 'ovr']},\n",
    "]\n",
    "gridsearch = GridSearchCV(model, param_grid, scoring='f1', n_jobs=-1)\n",
    "gridsearch.fit(X_train, y_train)\n",
    "model = gridsearch.best_estimator_\n",
    "# печатаем параметры\n",
    "best_parameters = model.get_params()"
   ]
  },
  {
   "cell_type": "code",
   "execution_count": 1864,
   "metadata": {},
   "outputs": [
    {
     "name": "stdout",
     "output_type": "stream",
     "text": [
      "  C = 1.0,\n",
      "  class_weight = none,\n",
      "  dual = False,\n",
      "  fit_intercept = True,\n",
      "  intercept_scaling = 1,\n",
      "  l1_ratio = None,\n",
      "  max_iter = 100,\n",
      "  multi_class = auto,\n",
      "  n_jobs = None,\n",
      "  penalty = none,\n",
      "  random_state = 42,\n",
      "  solver = sag,\n",
      "  tol = 0.0001,\n",
      "  verbose = 0,\n",
      "  warm_start = False,\n"
     ]
    }
   ],
   "source": [
    "# оптимальные параметры\n",
    "for param_name in best_parameters.keys():\n",
    "    print(f'  {param_name} = {best_parameters[param_name]},')"
   ]
  },
  {
   "cell_type": "code",
   "execution_count": 1865,
   "metadata": {},
   "outputs": [
    {
     "data": {
      "text/plain": [
       "LogisticRegression(penalty='none', random_state=42)"
      ]
     },
     "execution_count": 1865,
     "metadata": {},
     "output_type": "execute_result"
    }
   ],
   "source": [
    "# обучаем модель с оптимальными гиперпараметрами\n",
    "model_best_params = LogisticRegression(C=1.0,\n",
    "                                       class_weight=None,\n",
    "                                       dual=False,\n",
    "                                       fit_intercept=True,\n",
    "                                       intercept_scaling=1,\n",
    "                                       l1_ratio=None,\n",
    "                                       max_iter=100,\n",
    "                                       multi_class='auto',\n",
    "                                       n_jobs=None,\n",
    "                                       penalty='none',\n",
    "                                       random_state=42,\n",
    "                                       solver='lbfgs',\n",
    "                                       tol=0.0001,\n",
    "                                       verbose=0,\n",
    "                                       warm_start=False)\n",
    "\n",
    "model_best_params.fit(X_train, y_train)"
   ]
  },
  {
   "cell_type": "code",
   "execution_count": 1866,
   "metadata": {},
   "outputs": [
    {
     "data": {
      "text/html": [
       "<div>\n",
       "<style scoped>\n",
       "    .dataframe tbody tr th:only-of-type {\n",
       "        vertical-align: middle;\n",
       "    }\n",
       "\n",
       "    .dataframe tbody tr th {\n",
       "        vertical-align: top;\n",
       "    }\n",
       "\n",
       "    .dataframe thead th {\n",
       "        text-align: right;\n",
       "    }\n",
       "</style>\n",
       "<table border=\"1\" class=\"dataframe\">\n",
       "  <thead>\n",
       "    <tr style=\"text-align: right;\">\n",
       "      <th></th>\n",
       "      <th>model1</th>\n",
       "      <th>model2</th>\n",
       "      <th>model3</th>\n",
       "    </tr>\n",
       "  </thead>\n",
       "  <tbody>\n",
       "    <tr>\n",
       "      <th>accuracy</th>\n",
       "      <td>0.664829</td>\n",
       "      <td>0.664651</td>\n",
       "      <td>0.665185</td>\n",
       "    </tr>\n",
       "    <tr>\n",
       "      <th>precision</th>\n",
       "      <td>0.664654</td>\n",
       "      <td>0.664418</td>\n",
       "      <td>0.664892</td>\n",
       "    </tr>\n",
       "    <tr>\n",
       "      <th>recall</th>\n",
       "      <td>0.665363</td>\n",
       "      <td>0.665363</td>\n",
       "      <td>0.666074</td>\n",
       "    </tr>\n",
       "    <tr>\n",
       "      <th>f1_score</th>\n",
       "      <td>0.665008</td>\n",
       "      <td>0.664890</td>\n",
       "      <td>0.665482</td>\n",
       "    </tr>\n",
       "    <tr>\n",
       "      <th>ROC_AUC</th>\n",
       "      <td>0.729663</td>\n",
       "      <td>0.729611</td>\n",
       "      <td>0.729619</td>\n",
       "    </tr>\n",
       "  </tbody>\n",
       "</table>\n",
       "</div>"
      ],
      "text/plain": [
       "             model1    model2    model3\n",
       "accuracy   0.664829  0.664651  0.665185\n",
       "precision  0.664654  0.664418  0.664892\n",
       "recall     0.665363  0.665363  0.666074\n",
       "f1_score   0.665008  0.664890  0.665482\n",
       "ROC_AUC    0.729663  0.729611  0.729619"
      ]
     },
     "execution_count": 1866,
     "metadata": {},
     "output_type": "execute_result"
    }
   ],
   "source": [
    "probs = model_best_params.predict_proba(X_valid)\n",
    "y_probs = probs[:, 1]\n",
    "y_pred = model_best_params.predict(X_valid)\n",
    "\n",
    "# сравним метрики с предыдущими моделью\n",
    "# метрики практически не изменились\n",
    "summary_metrics(summary, 'model3', y_valid, y_pred, y_probs)"
   ]
  },
  {
   "cell_type": "markdown",
   "metadata": {},
   "source": [
    "__Подкрутим метрики вручную:__"
   ]
  },
  {
   "cell_type": "code",
   "execution_count": 1867,
   "metadata": {},
   "outputs": [
    {
     "data": {
      "text/plain": [
       "LogisticRegression(class_weight='balanced', random_state=42, solver='liblinear',\n",
       "                   tol=0.001)"
      ]
     },
     "execution_count": 1867,
     "metadata": {},
     "output_type": "execute_result"
    }
   ],
   "source": [
    "# обучаем модель с оптимальными гиперпараметрами (интуитивно подкручиваем параметры)\n",
    "model_best_params = LogisticRegression(C=1.0,\n",
    "                                       class_weight='balanced',\n",
    "                                       dual=False,\n",
    "                                       fit_intercept=True,\n",
    "                                       intercept_scaling=1,\n",
    "                                       l1_ratio=None,\n",
    "                                       max_iter=100,\n",
    "                                       multi_class='auto',\n",
    "                                       n_jobs=None,\n",
    "                                       penalty='l2',\n",
    "                                       random_state=42,\n",
    "                                       solver='liblinear',\n",
    "                                       tol=0.001,\n",
    "                                       verbose=0,\n",
    "                                       warm_start=False)\n",
    "\n",
    "model_best_params.fit(X_train, y_train)"
   ]
  },
  {
   "cell_type": "code",
   "execution_count": 1868,
   "metadata": {
    "scrolled": true
   },
   "outputs": [
    {
     "data": {
      "text/html": [
       "<div>\n",
       "<style scoped>\n",
       "    .dataframe tbody tr th:only-of-type {\n",
       "        vertical-align: middle;\n",
       "    }\n",
       "\n",
       "    .dataframe tbody tr th {\n",
       "        vertical-align: top;\n",
       "    }\n",
       "\n",
       "    .dataframe thead th {\n",
       "        text-align: right;\n",
       "    }\n",
       "</style>\n",
       "<table border=\"1\" class=\"dataframe\">\n",
       "  <thead>\n",
       "    <tr style=\"text-align: right;\">\n",
       "      <th></th>\n",
       "      <th>model1</th>\n",
       "      <th>model2</th>\n",
       "      <th>model3</th>\n",
       "      <th>model4</th>\n",
       "    </tr>\n",
       "  </thead>\n",
       "  <tbody>\n",
       "    <tr>\n",
       "      <th>accuracy</th>\n",
       "      <td>0.664829</td>\n",
       "      <td>0.664651</td>\n",
       "      <td>0.665185</td>\n",
       "      <td>0.664651</td>\n",
       "    </tr>\n",
       "    <tr>\n",
       "      <th>precision</th>\n",
       "      <td>0.664654</td>\n",
       "      <td>0.664418</td>\n",
       "      <td>0.664892</td>\n",
       "      <td>0.664534</td>\n",
       "    </tr>\n",
       "    <tr>\n",
       "      <th>recall</th>\n",
       "      <td>0.665363</td>\n",
       "      <td>0.665363</td>\n",
       "      <td>0.666074</td>\n",
       "      <td>0.665007</td>\n",
       "    </tr>\n",
       "    <tr>\n",
       "      <th>f1_score</th>\n",
       "      <td>0.665008</td>\n",
       "      <td>0.664890</td>\n",
       "      <td>0.665482</td>\n",
       "      <td>0.664771</td>\n",
       "    </tr>\n",
       "    <tr>\n",
       "      <th>ROC_AUC</th>\n",
       "      <td>0.729663</td>\n",
       "      <td>0.729611</td>\n",
       "      <td>0.729619</td>\n",
       "      <td>0.729664</td>\n",
       "    </tr>\n",
       "  </tbody>\n",
       "</table>\n",
       "</div>"
      ],
      "text/plain": [
       "             model1    model2    model3    model4\n",
       "accuracy   0.664829  0.664651  0.665185  0.664651\n",
       "precision  0.664654  0.664418  0.664892  0.664534\n",
       "recall     0.665363  0.665363  0.666074  0.665007\n",
       "f1_score   0.665008  0.664890  0.665482  0.664771\n",
       "ROC_AUC    0.729663  0.729611  0.729619  0.729664"
      ]
     },
     "execution_count": 1868,
     "metadata": {},
     "output_type": "execute_result"
    }
   ],
   "source": [
    "probs = model_best_params.predict_proba(X_valid)\n",
    "y_probs = probs[:, 1]\n",
    "y_pred = model_best_params.predict(X_valid)\n",
    "\n",
    "# сравним метрики с предыдущими моделью\n",
    "summary_metrics(summary, 'model4', y_valid, y_pred, y_probs)"
   ]
  },
  {
   "cell_type": "markdown",
   "metadata": {},
   "source": [
    "Итак, видим, что метрики практически не изменились, однако последняя модель имеет наибольший ROC AUC. Будем использовать ее для submission."
   ]
  },
  {
   "cell_type": "markdown",
   "metadata": {},
   "source": [
    "## Submission"
   ]
  },
  {
   "cell_type": "code",
   "execution_count": 1869,
   "metadata": {},
   "outputs": [
    {
     "data": {
      "text/html": [
       "<div>\n",
       "<style scoped>\n",
       "    .dataframe tbody tr th:only-of-type {\n",
       "        vertical-align: middle;\n",
       "    }\n",
       "\n",
       "    .dataframe tbody tr th {\n",
       "        vertical-align: top;\n",
       "    }\n",
       "\n",
       "    .dataframe thead th {\n",
       "        text-align: right;\n",
       "    }\n",
       "</style>\n",
       "<table border=\"1\" class=\"dataframe\">\n",
       "  <thead>\n",
       "    <tr style=\"text-align: right;\">\n",
       "      <th></th>\n",
       "      <th>client_id</th>\n",
       "      <th>default</th>\n",
       "    </tr>\n",
       "  </thead>\n",
       "  <tbody>\n",
       "    <tr>\n",
       "      <th>0</th>\n",
       "      <td>74835</td>\n",
       "      <td>0.206657</td>\n",
       "    </tr>\n",
       "    <tr>\n",
       "      <th>1</th>\n",
       "      <td>17527</td>\n",
       "      <td>0.735368</td>\n",
       "    </tr>\n",
       "    <tr>\n",
       "      <th>2</th>\n",
       "      <td>75683</td>\n",
       "      <td>0.311853</td>\n",
       "    </tr>\n",
       "    <tr>\n",
       "      <th>3</th>\n",
       "      <td>26883</td>\n",
       "      <td>0.375473</td>\n",
       "    </tr>\n",
       "    <tr>\n",
       "      <th>4</th>\n",
       "      <td>28862</td>\n",
       "      <td>0.146161</td>\n",
       "    </tr>\n",
       "    <tr>\n",
       "      <th>...</th>\n",
       "      <td>...</td>\n",
       "      <td>...</td>\n",
       "    </tr>\n",
       "    <tr>\n",
       "      <th>36344</th>\n",
       "      <td>83775</td>\n",
       "      <td>0.800971</td>\n",
       "    </tr>\n",
       "    <tr>\n",
       "      <th>36345</th>\n",
       "      <td>106254</td>\n",
       "      <td>0.109968</td>\n",
       "    </tr>\n",
       "    <tr>\n",
       "      <th>36346</th>\n",
       "      <td>81852</td>\n",
       "      <td>0.785290</td>\n",
       "    </tr>\n",
       "    <tr>\n",
       "      <th>36347</th>\n",
       "      <td>1971</td>\n",
       "      <td>0.617451</td>\n",
       "    </tr>\n",
       "    <tr>\n",
       "      <th>36348</th>\n",
       "      <td>69044</td>\n",
       "      <td>0.689247</td>\n",
       "    </tr>\n",
       "  </tbody>\n",
       "</table>\n",
       "<p>36349 rows × 2 columns</p>\n",
       "</div>"
      ],
      "text/plain": [
       "       client_id   default\n",
       "0          74835  0.206657\n",
       "1          17527  0.735368\n",
       "2          75683  0.311853\n",
       "3          26883  0.375473\n",
       "4          28862  0.146161\n",
       "...          ...       ...\n",
       "36344      83775  0.800971\n",
       "36345     106254  0.109968\n",
       "36346      81852  0.785290\n",
       "36347       1971  0.617451\n",
       "36348      69044  0.689247\n",
       "\n",
       "[36349 rows x 2 columns]"
      ]
     },
     "execution_count": 1869,
     "metadata": {},
     "output_type": "execute_result"
    }
   ],
   "source": [
    "X_test = test_data.drop(['default'], axis=1)\n",
    "y_pred_prob = model_best_params.predict_proba(X_test)[:, 1]\n",
    "submit = pd.DataFrame(df_test.client_id)\n",
    "submit['default'] = y_pred_prob\n",
    "submit.to_csv('submission_my.csv', index=False)\n",
    "submit"
   ]
  },
  {
   "cell_type": "code",
   "execution_count": null,
   "metadata": {},
   "outputs": [],
   "source": []
  },
  {
   "cell_type": "code",
   "execution_count": null,
   "metadata": {},
   "outputs": [],
   "source": []
  },
  {
   "cell_type": "code",
   "execution_count": null,
   "metadata": {},
   "outputs": [],
   "source": []
  }
 ],
 "metadata": {
  "hide_code_all_hidden": false,
  "kernelspec": {
   "display_name": "Python 3",
   "language": "python",
   "name": "python3"
  }
 },
 "nbformat": 4,
 "nbformat_minor": 4
}
